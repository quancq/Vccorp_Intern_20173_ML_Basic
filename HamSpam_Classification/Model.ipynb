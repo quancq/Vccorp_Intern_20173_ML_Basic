{
 "cells": [
  {
   "cell_type": "code",
   "execution_count": 1,
   "metadata": {},
   "outputs": [
    {
     "name": "stderr",
     "output_type": "stream",
     "text": [
      "/usr/lib/python3.5/importlib/_bootstrap.py:222: RuntimeWarning: numpy.dtype size changed, may indicate binary incompatibility. Expected 96, got 88\n",
      "  return f(*args, **kwds)\n",
      "/usr/lib/python3.5/importlib/_bootstrap.py:222: RuntimeWarning: numpy.dtype size changed, may indicate binary incompatibility. Expected 96, got 88\n",
      "  return f(*args, **kwds)\n",
      "/usr/lib/python3.5/importlib/_bootstrap.py:222: RuntimeWarning: numpy.dtype size changed, may indicate binary incompatibility. Expected 96, got 88\n",
      "  return f(*args, **kwds)\n",
      "/usr/lib/python3.5/importlib/_bootstrap.py:222: RuntimeWarning: numpy.dtype size changed, may indicate binary incompatibility. Expected 96, got 88\n",
      "  return f(*args, **kwds)\n",
      "/usr/lib/python3.5/importlib/_bootstrap.py:222: RuntimeWarning: numpy.dtype size changed, may indicate binary incompatibility. Expected 96, got 88\n",
      "  return f(*args, **kwds)\n",
      "/usr/lib/python3.5/importlib/_bootstrap.py:222: RuntimeWarning: numpy.dtype size changed, may indicate binary incompatibility. Expected 96, got 88\n",
      "  return f(*args, **kwds)\n",
      "/home/quanchu/.local/lib/python3.5/site-packages/sklearn/cross_validation.py:41: DeprecationWarning: This module was deprecated in version 0.18 in favor of the model_selection module into which all the refactored classes and functions are moved. Also note that the interface of the new CV iterators are different from that of this module. This module will be removed in 0.20.\n",
      "  \"This module will be removed in 0.20.\", DeprecationWarning)\n",
      "/home/quanchu/.local/lib/python3.5/site-packages/sklearn/grid_search.py:42: DeprecationWarning: This module was deprecated in version 0.18 in favor of the model_selection module into which all the refactored classes and functions are moved. This module will be removed in 0.20.\n",
      "  DeprecationWarning)\n"
     ]
    }
   ],
   "source": [
    "import os, time, math\n",
    "import re\n",
    "import numpy as np\n",
    "import pandas as pd\n",
    "import matplotlib.pyplot as plt\n",
    "from pyvi.ViTokenizer import ViTokenizer\n",
    "from nltk.tokenize import word_tokenize\n",
    "from sklearn.base import TransformerMixin, BaseEstimator\n",
    "from sklearn.feature_extraction.text import TfidfVectorizer\n",
    "\n",
    "from sklearn.naive_bayes import MultinomialNB\n",
    "from sklearn.svm import SVC\n",
    "from sklearn.ensemble import RandomForestClassifier\n",
    "from sklearn.ensemble import AdaBoostClassifier\n",
    "\n",
    "from sklearn.grid_search import GridSearchCV\n",
    "from sklearn.pipeline import Pipeline\n",
    "from sklearn.metrics import make_scorer\n",
    "from sklearn.metrics import accuracy_score, f1_score\n",
    "from sklearn.metrics import confusion_matrix\n",
    "from sklearn.metrics import classification_report\n",
    "from sklearn.model_selection import cross_val_score\n",
    "import pickle"
   ]
  },
  {
   "cell_type": "code",
   "execution_count": 2,
   "metadata": {},
   "outputs": [],
   "source": [
    "def load_data(path):\n",
    "    with open(path, 'r', encoding=\"latin-1\") as f:\n",
    "        lines = f.readlines()\n",
    "    \n",
    "    data = []\n",
    "    label = []\n",
    "    \n",
    "    for line in lines:\n",
    "        line = line.strip()\n",
    "        splitted_line = line.split(None, 1)\n",
    "        label.append(int(splitted_line[0]))\n",
    "        data.append(splitted_line[1])\n",
    "    \n",
    "    print(\"Read file {} done : {} lines\".format(path, len(data)))\n",
    "    return data, label"
   ]
  },
  {
   "cell_type": "code",
   "execution_count": 3,
   "metadata": {},
   "outputs": [],
   "source": [
    "# Define path\n",
    "data_dir = \"./Data\"\n",
    "train_file_path = os.path.join(data_dir, \"train.txt\")\n",
    "ham_test_path = os.path.join(data_dir, \"ham_test.txt\")\n",
    "spam_test_path = os.path.join(data_dir, \"spam_test.txt\")"
   ]
  },
  {
   "cell_type": "code",
   "execution_count": 4,
   "metadata": {},
   "outputs": [
    {
     "name": "stdout",
     "output_type": "stream",
     "text": [
      "Read file ./Data/train.txt done : 100 lines\n",
      "Number hams  :  49\n",
      "Number spams :  51\n",
      "Train size   :  100\n"
     ]
    }
   ],
   "source": [
    "# Load training data\n",
    "training_data, training_label = load_data(train_file_path)\n",
    "\n",
    "train_size = len(training_data)\n",
    "num_hams = np.sum(np.array(training_label) == 1)\n",
    "num_spams = np.sum(np.array(training_label) == -1)\n",
    "\n",
    "print(\"Number hams  : \", num_hams)\n",
    "print(\"Number spams : \", num_spams)\n",
    "print(\"Train size   : \", train_size)\n"
   ]
  },
  {
   "cell_type": "code",
   "execution_count": 5,
   "metadata": {},
   "outputs": [
    {
     "name": "stdout",
     "output_type": "stream",
     "text": [
      "Read file ./Data/ham_test.txt done : 35 lines\n",
      "Read file ./Data/spam_test.txt done : 43 lines\n",
      "Number hams test  :  35\n",
      "Number spams test :  43\n",
      "Test size :  78\n"
     ]
    }
   ],
   "source": [
    "# Load test data\n",
    "ham_test_data, ham_test_label = load_data(ham_test_path)\n",
    "spam_test_data, spam_test_label = load_data(spam_test_path)\n",
    "\n",
    "num_hams_test = len(ham_test_data)\n",
    "num_spams_test = len(spam_test_data)\n",
    "print(\"Number hams test  : \", num_hams_test)\n",
    "print(\"Number spams test : \", num_spams_test)\n",
    "\n",
    "test_data = ham_test_data + spam_test_data\n",
    "test_label = np.array(ham_test_label + spam_test_label)\n",
    "test_size = len(test_data)\n",
    "print(\"Test size : \", test_size)"
   ]
  },
  {
   "cell_type": "code",
   "execution_count": null,
   "metadata": {},
   "outputs": [],
   "source": []
  },
  {
   "cell_type": "code",
   "execution_count": 6,
   "metadata": {},
   "outputs": [],
   "source": [
    "class FeatureTransformer(BaseEstimator, TransformerMixin):\n",
    "    # Transform raw text data to tf-idf\n",
    "    def __init__(self):\n",
    "        self.tokenize = word_tokenize\n",
    "        self.tfidf = TfidfVectorizer()\n",
    "\n",
    "    def fit(self, X, *_):\n",
    "        result = [re.sub(r'[^\\w\\s]', '', document) for document in X]\n",
    "        self.tfidf.fit(result)\n",
    "        return self\n",
    "\n",
    "    def transform(self, X, y=None, **fit_params):\n",
    "        # Remove punctuation\n",
    "        result = [re.sub(r'[^\\w\\s]', '', document) for document in X]\n",
    "        result = self.tfidf.transform(result)\n",
    "        return result"
   ]
  },
  {
   "cell_type": "code",
   "execution_count": 7,
   "metadata": {},
   "outputs": [
    {
     "name": "stdout",
     "output_type": "stream",
     "text": [
      "Shape of transformed traning data :  (100, 612)\n",
      "Shape of transformed test data :  (78, 612)\n"
     ]
    }
   ],
   "source": [
    "ft = FeatureTransformer()\n",
    "ft.fit(training_data)\n",
    "transformed_training_data = ft.transform(training_data)\n",
    "transformed_test_data = ft.transform(test_data)\n",
    "print(\"Shape of transformed traning data : \", transformed_training_data.shape)\n",
    "print(\"Shape of transformed test data : \", transformed_test_data.shape)"
   ]
  },
  {
   "cell_type": "code",
   "execution_count": 8,
   "metadata": {},
   "outputs": [],
   "source": [
    "accuracies = {}\n",
    "preds = {}\n",
    "cv = 5"
   ]
  },
  {
   "cell_type": "code",
   "execution_count": 9,
   "metadata": {},
   "outputs": [
    {
     "name": "stdout",
     "output_type": "stream",
     "text": [
      "MNB: Best param : {'alpha': 0.1}\n",
      "Best accuracy score : 0.89\n"
     ]
    }
   ],
   "source": [
    "# Naive Bayes\n",
    "model_name = \"MNB\"\n",
    "\n",
    "# Training\n",
    "param_grid = {\"alpha\": [0.01, 0.03, 0.1, 0.3, 1]}\n",
    "mnb_clf = GridSearchCV(MultinomialNB(), param_grid=param_grid, cv=cv)\n",
    "mnb_clf.fit(transformed_training_data, training_label)\n",
    "print(\"{}: Best param : {}\".format(model_name, mnb_clf.best_params_))\n",
    "print(\"Best accuracy score : {}\".format(mnb_clf.best_score_))\n",
    "\n",
    "# Evaluate\n",
    "pred_mnb = mnb_clf.predict(transformed_test_data)\n",
    "acc_score_mnb = mnb_clf.best_score_\n",
    "\n",
    "# Add result to dict\n",
    "preds[model_name] = pred_mnb\n",
    "accuracies[model_name] = acc_score_mnb"
   ]
  },
  {
   "cell_type": "code",
   "execution_count": 10,
   "metadata": {},
   "outputs": [
    {
     "name": "stdout",
     "output_type": "stream",
     "text": [
      "SVM: Best param : {'kernel': 'rbf', 'gamma': 0.4, 'C': 1}\n",
      "Best accuracy score : 0.93\n"
     ]
    }
   ],
   "source": [
    "# SVM\n",
    "model_name = \"SVM\"\n",
    "\n",
    "# Training\n",
    "param_grid = {\n",
    "    \"C\": [0.01, 0.03, 0.1, 0.3, 1],\n",
    "    \"kernel\" : [\"rbf\", \"sigmoid\"],\n",
    "    \"gamma\": np.linspace(0.1, 1, 4),\n",
    "}\n",
    "svm_clf = GridSearchCV(SVC(), param_grid=param_grid, cv=cv)\n",
    "svm_clf.fit(transformed_training_data, training_label)\n",
    "print(\"{}: Best param : {}\".format(model_name, svm_clf.best_params_))\n",
    "print(\"Best accuracy score : {}\".format(svm_clf.best_score_))\n",
    "\n",
    "# Evaluate\n",
    "pred_svm = svm_clf.predict(transformed_test_data)\n",
    "acc_score_svm = svm_clf.best_score_\n",
    "\n",
    "# Add result to dict\n",
    "preds[model_name] = pred_svm\n",
    "accuracies[model_name] = acc_score_svm"
   ]
  },
  {
   "cell_type": "code",
   "execution_count": 11,
   "metadata": {},
   "outputs": [
    {
     "name": "stdout",
     "output_type": "stream",
     "text": [
      "Random Forest: Best param : {'max_depth': 70, 'max_features': 0.2, 'n_estimators': 110}, Best acc score : 0.92\n"
     ]
    }
   ],
   "source": [
    "# Random Forest\n",
    "model_name = \"Random Forest\"\n",
    "\n",
    "# Training\n",
    "param_grid = {\n",
    "    \"max_features\": np.linspace(0.2, 1, 5),\n",
    "    \"n_estimators\": np.arange(50, 150, 30),\n",
    "#     \"min_samples_leaf\": np.arange(2, 20, 5),\n",
    "    \"max_depth\": np.arange(30, 80, 20)\n",
    "}\n",
    "rf_clf = GridSearchCV(RandomForestClassifier(), param_grid=param_grid, cv=cv)\n",
    "rf_clf.fit(transformed_training_data, training_label)\n",
    "print(\"{}: Best param : {}, Best acc score : {}\".format(model_name, rf_clf.best_params_, rf_clf.best_score_))\n",
    "\n",
    "# Evaluate\n",
    "pred_rf = rf_clf.predict(transformed_test_data)\n",
    "acc_score_rf = rf_clf.best_score_\n",
    "\n",
    "# Add result to dict\n",
    "preds[model_name] = pred_rf\n",
    "accuracies[model_name] = acc_score_rf"
   ]
  },
  {
   "cell_type": "code",
   "execution_count": null,
   "metadata": {},
   "outputs": [],
   "source": []
  },
  {
   "cell_type": "code",
   "execution_count": 12,
   "metadata": {},
   "outputs": [
    {
     "name": "stdout",
     "output_type": "stream",
     "text": [
      "Ensemble: Best acc score : 0.717948717948718\n"
     ]
    }
   ],
   "source": [
    "# Ensemble\n",
    "model_name = \"Ensemble\"\n",
    "\n",
    "# Ensemble predict of all model by major voting\n",
    "pred_ensemble = np.stack([pred for pred in preds.values()])\n",
    "pred_ensemble = pred_ensemble.sum(axis=0)\n",
    "pred_ensemble[pred_ensemble == 0] = np.random.uniform(-1,1)\n",
    "pred_ensemble[pred_ensemble >= 0] = 1\n",
    "pred_ensemble[pred_ensemble < 0] = -1\n",
    "\n",
    "acc_score_ensemble = accuracy_score(test_label, pred_ensemble)\n",
    "\n",
    "# Add result to dict\n",
    "preds[model_name] = pred_ensemble\n",
    "accuracies[model_name] = acc_score_ensemble\n",
    "\n",
    "print(\"{}: Best acc score : {}\".format(model_name, acc_score_ensemble))"
   ]
  },
  {
   "cell_type": "code",
   "execution_count": 13,
   "metadata": {},
   "outputs": [
    {
     "data": {
      "text/html": [
       "<div>\n",
       "<style scoped>\n",
       "    .dataframe tbody tr th:only-of-type {\n",
       "        vertical-align: middle;\n",
       "    }\n",
       "\n",
       "    .dataframe tbody tr th {\n",
       "        vertical-align: top;\n",
       "    }\n",
       "\n",
       "    .dataframe thead th {\n",
       "        text-align: right;\n",
       "    }\n",
       "</style>\n",
       "<table border=\"1\" class=\"dataframe\">\n",
       "  <thead>\n",
       "    <tr style=\"text-align: right;\">\n",
       "      <th></th>\n",
       "      <th>Accuracy</th>\n",
       "    </tr>\n",
       "  </thead>\n",
       "  <tbody>\n",
       "    <tr>\n",
       "      <th>Ensemble</th>\n",
       "      <td>0.717949</td>\n",
       "    </tr>\n",
       "    <tr>\n",
       "      <th>MNB</th>\n",
       "      <td>0.890000</td>\n",
       "    </tr>\n",
       "    <tr>\n",
       "      <th>Random Forest</th>\n",
       "      <td>0.920000</td>\n",
       "    </tr>\n",
       "    <tr>\n",
       "      <th>SVM</th>\n",
       "      <td>0.930000</td>\n",
       "    </tr>\n",
       "  </tbody>\n",
       "</table>\n",
       "</div>"
      ],
      "text/plain": [
       "               Accuracy\n",
       "Ensemble       0.717949\n",
       "MNB            0.890000\n",
       "Random Forest  0.920000\n",
       "SVM            0.930000"
      ]
     },
     "execution_count": 13,
     "metadata": {},
     "output_type": "execute_result"
    }
   ],
   "source": [
    "# Build dataframe to plot result\n",
    "model_names = accuracies.keys();\n",
    "accuracy_lst = [accuracies.get(model_name) for model_name in model_names]\n",
    "\n",
    "stats = pd.DataFrame({\"Accuracy\" : accuracy_lst}, index=model_names)\n",
    "stats.sort_values(by=\"Accuracy\", inplace=True)\n",
    "\n",
    "stats.head()"
   ]
  },
  {
   "cell_type": "code",
   "execution_count": 14,
   "metadata": {},
   "outputs": [
    {
     "data": {
      "image/png": "[encoded data removed]",
      "text/plain": [
       "<Figure size 432x288 with 1 Axes>"
      ]
     },
     "metadata": {},
     "output_type": "display_data"
    }
   ],
   "source": [
    "# Plot accuracy stats\n",
    "ax = stats.plot(y=\"Accuracy\", kind=\"bar\", color=\"b\")\n",
    "ax.set(title=\"Compare accuracy of models\", xlabel=\"model\", ylabel=\"accuracy\", ylim=[0.6,1])\n",
    "ax.legend().set_visible(False)\n",
    "plt.xticks(rotation=0)\n",
    "\n",
    "x_offset = -0.2\n",
    "y_offset = 0.01\n",
    "\n",
    "# add value into plot to see clearly\n",
    "for p in ax.patches:\n",
    "    b = p.get_bbox()\n",
    "#     print(b)\n",
    "    acc_value = \"{:.4f}\".format(b.y0 + b.y1)\n",
    "    ax.annotate(acc_value, xy=((b.x0 + b.x1)/2 + x_offset, b.y1 + y_offset))"
   ]
  },
  {
   "cell_type": "code",
   "execution_count": 17,
   "metadata": {},
   "outputs": [
    {
     "name": "stdout",
     "output_type": "stream",
     "text": [
      "Evaluate on test data : Accuracy = 0.9358974358974359\n"
     ]
    }
   ],
   "source": [
    "# Choose best model by look at accuracy on cross-validation\n",
    "best_model = rf_clf\n",
    "pred_label = best_model.predict(transformed_test_data)\n",
    "acc_score_best_model = accuracy_score(test_label, pred_label)\n",
    "print(\"Evaluate on test data : Accuracy = {}\".format(acc_score_best_model))"
   ]
  },
  {
   "cell_type": "code",
   "execution_count": null,
   "metadata": {},
   "outputs": [],
   "source": []
  },
  {
   "cell_type": "code",
   "execution_count": null,
   "metadata": {},
   "outputs": [],
   "source": []
  }
 ],
 "metadata": {
  "kernelspec": {
   "display_name": "Python 3",
   "language": "python",
   "name": "python3"
  },
  "language_info": {
   "codemirror_mode": {
    "name": "ipython",
    "version": 3
   },
   "file_extension": ".py",
   "mimetype": "text/x-python",
   "name": "python",
   "nbconvert_exporter": "python",
   "pygments_lexer": "ipython3",
   "version": "3.5.2"
  }
 },
 "nbformat": 4,
 "nbformat_minor": 2
}
