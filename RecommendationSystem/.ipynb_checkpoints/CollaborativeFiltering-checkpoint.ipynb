{
 "cells": [
  {
   "cell_type": "code",
   "execution_count": 2,
   "metadata": {},
   "outputs": [],
   "source": [
    "import os, time, math\n",
    "import numpy as np\n",
    "import pandas as pd\n",
    "import matplotlib.pyplot as plt\n",
    "from scipy import sparse\n",
    "from sklearn.metrics.pairwise import cosine_similarity\n",
    "from sklearn.metrics import mean_squared_error"
   ]
  },
  {
   "cell_type": "code",
   "execution_count": 3,
   "metadata": {},
   "outputs": [],
   "source": [
    "# Define path of dataset 100K\n",
    "data_dir1 = \"./Data/ml-100k\"\n",
    "ratings_train_path1 = os.path.join(data_dir1, \"ua.base\")\n",
    "ratings_test_path1 = os.path.join(data_dir1, \"ua.test\")\n",
    "items_file_path1 = os.path.join(data_dir1, \"u.item\")\n",
    "users_file_path1 = os.path.join(data_dir1, \"u.user\")"
   ]
  },
  {
   "cell_type": "code",
   "execution_count": 4,
   "metadata": {},
   "outputs": [
    {
     "name": "stdout",
     "output_type": "stream",
     "text": [
      "Number of users: 943\n"
     ]
    }
   ],
   "source": [
    "# Read users file\n",
    "u_cols1 =  ['userId', 'age', 'sex', 'occupation', 'zip_code']\n",
    "users1 = pd.read_csv(users_file_path1, sep='|', names=u_cols1, encoding='latin-1')\n",
    "\n",
    "n_users1 = users1.shape[0]\n",
    "print(\"Number of users:\", n_users1)"
   ]
  },
  {
   "cell_type": "code",
   "execution_count": 5,
   "metadata": {},
   "outputs": [
    {
     "name": "stdout",
     "output_type": "stream",
     "text": [
      "Training data size :  90570\n",
      "Test data size     :  9430\n"
     ]
    }
   ],
   "source": [
    "# Read ratings file\n",
    "r_cols1 = ['userId', 'movieId', 'rating', 'unix_timestamp']\n",
    "\n",
    "ratings_train1 = pd.read_csv(ratings_train_path1, sep='\\t', names=r_cols1, encoding='latin-1')\n",
    "ratings_test1 = pd.read_csv(ratings_test_path1, sep='\\t', names=r_cols1, encoding='latin-1')\n",
    "\n",
    "print(\"Training data size : \", ratings_train1.shape[0])\n",
    "print(\"Test data size     : \", ratings_test1.shape[0])"
   ]
  },
  {
   "cell_type": "code",
   "execution_count": 6,
   "metadata": {},
   "outputs": [
    {
     "name": "stdout",
     "output_type": "stream",
     "text": [
      "Number of items: 1682\n"
     ]
    }
   ],
   "source": [
    "#Reading items file:\n",
    "i_cols1 = ['movieId', 'movie title' ,'release date','video release date', 'IMDb URL', 'unknown', 'Action', 'Adventure',\n",
    " 'Animation', 'Children\\'s', 'Comedy', 'Crime', 'Documentary', 'Drama', 'Fantasy',\n",
    " 'Film-Noir', 'Horror', 'Musical', 'Mystery', 'Romance', 'Sci-Fi', 'Thriller', 'War', 'Western']\n",
    "\n",
    "items1 = pd.read_csv(items_file_path1, sep='|', names=i_cols1, encoding='latin-1')\n",
    "\n",
    "n_items1 = items1.shape[0]\n",
    "print(\"Number of items:\", n_items1)"
   ]
  },
  {
   "cell_type": "code",
   "execution_count": 4,
   "metadata": {},
   "outputs": [],
   "source": [
    "def convert_genres_names(genres_names):\n",
    "    genres_names = genres_names.replace(\"(no genres listed)\", \"Unknown\")\n",
    "    genres_names = genres_names.replace('|', ' ')\n",
    "    genres_names = genres_names.replace('-', '')\n",
    "    return genres_names"
   ]
  },
  {
   "cell_type": "code",
   "execution_count": 5,
   "metadata": {},
   "outputs": [],
   "source": [
    "# Define path of dataset 1M\n",
    "data_dir2 = \"./Data/ml-1m\"\n",
    "ratings_file_path2 = os.path.join(data_dir2, \"ratings.dat\")\n",
    "items_file_path2 = os.path.join(data_dir2, \"movies.dat\")\n",
    "# ratings_path2 = os.path.join(data_dir2, \"ratings.dat\")\n",
    "ratings_train_path2 = os.path.join(data_dir2, \"ratings_train.csv\")\n",
    "ratings_test_path2 = os.path.join(data_dir2, \"ratings_test.csv\")"
   ]
  },
  {
   "cell_type": "code",
   "execution_count": 6,
   "metadata": {},
   "outputs": [
    {
     "name": "stdout",
     "output_type": "stream",
     "text": [
      "Number of items (movies) :  3883\n",
      "Example items:\n"
     ]
    },
    {
     "name": "stderr",
     "output_type": "stream",
     "text": [
      "/home/quanchu/.local/lib/python3.5/site-packages/ipykernel_launcher.py:3: ParserWarning: Falling back to the 'python' engine because the 'c' engine does not support regex separators (separators > 1 char and different from '\\s+' are interpreted as regex); you can avoid this warning by specifying engine='python'.\n",
      "  This is separate from the ipykernel package so we can avoid doing imports until\n"
     ]
    },
    {
     "data": {
      "text/html": [
       "<div>\n",
       "<style scoped>\n",
       "    .dataframe tbody tr th:only-of-type {\n",
       "        vertical-align: middle;\n",
       "    }\n",
       "\n",
       "    .dataframe tbody tr th {\n",
       "        vertical-align: top;\n",
       "    }\n",
       "\n",
       "    .dataframe thead th {\n",
       "        text-align: right;\n",
       "    }\n",
       "</style>\n",
       "<table border=\"1\" class=\"dataframe\">\n",
       "  <thead>\n",
       "    <tr style=\"text-align: right;\">\n",
       "      <th></th>\n",
       "      <th>movieId</th>\n",
       "      <th>title</th>\n",
       "      <th>genres</th>\n",
       "    </tr>\n",
       "  </thead>\n",
       "  <tbody>\n",
       "    <tr>\n",
       "      <th>0</th>\n",
       "      <td>1</td>\n",
       "      <td>Toy Story (1995)</td>\n",
       "      <td>Animation Children's Comedy</td>\n",
       "    </tr>\n",
       "    <tr>\n",
       "      <th>1</th>\n",
       "      <td>2</td>\n",
       "      <td>Jumanji (1995)</td>\n",
       "      <td>Adventure Children's Fantasy</td>\n",
       "    </tr>\n",
       "    <tr>\n",
       "      <th>2</th>\n",
       "      <td>3</td>\n",
       "      <td>Grumpier Old Men (1995)</td>\n",
       "      <td>Comedy Romance</td>\n",
       "    </tr>\n",
       "  </tbody>\n",
       "</table>\n",
       "</div>"
      ],
      "text/plain": [
       "   movieId                    title                        genres\n",
       "0        1         Toy Story (1995)   Animation Children's Comedy\n",
       "1        2           Jumanji (1995)  Adventure Children's Fantasy\n",
       "2        3  Grumpier Old Men (1995)                Comedy Romance"
      ]
     },
     "execution_count": 6,
     "metadata": {},
     "output_type": "execute_result"
    }
   ],
   "source": [
    "# Reading items file:\n",
    "i_cols2 = [\"movieId\", \"title\", \"genres\"]\n",
    "items2 = pd.read_csv(items_file_path2, encoding=\"latin-1\", sep=\"::\", names=i_cols2)\n",
    "\n",
    "num_items2 = items2.shape[0]\n",
    "print(\"Number of items (movies) : \", num_items2)\n",
    "items2[\"genres\"] = items2[\"genres\"].apply(convert_genres_names)\n",
    "# print(items.info())\n",
    "print(\"Example items:\")\n",
    "items2.head(3)"
   ]
  },
  {
   "cell_type": "code",
   "execution_count": 16,
   "metadata": {},
   "outputs": [
    {
     "name": "stderr",
     "output_type": "stream",
     "text": [
      "/home/quanchu/.local/lib/python3.5/site-packages/ipykernel_launcher.py:3: ParserWarning: Falling back to the 'python' engine because the 'c' engine does not support regex separators (separators > 1 char and different from '\\s+' are interpreted as regex); you can avoid this warning by specifying engine='python'.\n",
      "  This is separate from the ipykernel package so we can avoid doing imports until\n"
     ]
    },
    {
     "name": "stdout",
     "output_type": "stream",
     "text": [
      "Info training data :\n",
      "<class 'pandas.core.frame.DataFrame'>\n",
      "RangeIndex: 1000209 entries, 0 to 1000208\n",
      "Data columns (total 4 columns):\n",
      "userId            1000209 non-null int64\n",
      "movieId           1000209 non-null int64\n",
      "rating            1000209 non-null int64\n",
      "unix_timestamp    1000209 non-null int64\n",
      "dtypes: int64(4)\n",
      "memory usage: 30.5 MB\n",
      "None\n",
      "Example training data : \n",
      "\n"
     ]
    },
    {
     "data": {
      "text/html": [
       "<div>\n",
       "<style scoped>\n",
       "    .dataframe tbody tr th:only-of-type {\n",
       "        vertical-align: middle;\n",
       "    }\n",
       "\n",
       "    .dataframe tbody tr th {\n",
       "        vertical-align: top;\n",
       "    }\n",
       "\n",
       "    .dataframe thead th {\n",
       "        text-align: right;\n",
       "    }\n",
       "</style>\n",
       "<table border=\"1\" class=\"dataframe\">\n",
       "  <thead>\n",
       "    <tr style=\"text-align: right;\">\n",
       "      <th></th>\n",
       "      <th>userId</th>\n",
       "      <th>movieId</th>\n",
       "      <th>rating</th>\n",
       "      <th>unix_timestamp</th>\n",
       "    </tr>\n",
       "  </thead>\n",
       "  <tbody>\n",
       "    <tr>\n",
       "      <th>0</th>\n",
       "      <td>1</td>\n",
       "      <td>1193</td>\n",
       "      <td>5</td>\n",
       "      <td>978300760</td>\n",
       "    </tr>\n",
       "    <tr>\n",
       "      <th>1</th>\n",
       "      <td>1</td>\n",
       "      <td>661</td>\n",
       "      <td>3</td>\n",
       "      <td>978302109</td>\n",
       "    </tr>\n",
       "    <tr>\n",
       "      <th>2</th>\n",
       "      <td>1</td>\n",
       "      <td>914</td>\n",
       "      <td>3</td>\n",
       "      <td>978301968</td>\n",
       "    </tr>\n",
       "    <tr>\n",
       "      <th>3</th>\n",
       "      <td>1</td>\n",
       "      <td>3408</td>\n",
       "      <td>4</td>\n",
       "      <td>978300275</td>\n",
       "    </tr>\n",
       "    <tr>\n",
       "      <th>4</th>\n",
       "      <td>1</td>\n",
       "      <td>2355</td>\n",
       "      <td>5</td>\n",
       "      <td>978824291</td>\n",
       "    </tr>\n",
       "  </tbody>\n",
       "</table>\n",
       "</div>"
      ],
      "text/plain": [
       "   userId  movieId  rating  unix_timestamp\n",
       "0       1     1193       5       978300760\n",
       "1       1      661       3       978302109\n",
       "2       1      914       3       978301968\n",
       "3       1     3408       4       978300275\n",
       "4       1     2355       5       978824291"
      ]
     },
     "execution_count": 16,
     "metadata": {},
     "output_type": "execute_result"
    }
   ],
   "source": [
    "# # Read ratings file\n",
    "# r_cols2 = [\"userId\", \"movieId\", \"rating\", \"unix_timestamp\"]\n",
    "# ratings2 = pd.read_csv(ratings_file_path2, encoding=\"utf-8\", sep=\"::\", names=r_cols2)\n",
    "\n",
    "# print(\"Info training data :\"); print(ratings2.info())\n",
    "# print(\"Example training data : \\n\")\n",
    "# ratings2.head()"
   ]
  },
  {
   "cell_type": "code",
   "execution_count": null,
   "metadata": {},
   "outputs": [],
   "source": []
  },
  {
   "cell_type": "code",
   "execution_count": 17,
   "metadata": {},
   "outputs": [
    {
     "name": "stderr",
     "output_type": "stream",
     "text": [
      "/usr/lib/python3.5/importlib/_bootstrap.py:222: RuntimeWarning: numpy.dtype size changed, may indicate binary incompatibility. Expected 96, got 88\n",
      "  return f(*args, **kwds)\n"
     ]
    },
    {
     "name": "stdout",
     "output_type": "stream",
     "text": [
      "Training data size : 800167, pct = 80.00%%\n",
      "Test data size     : 200042, pct = 20.00%%\n",
      "Dataset size       : 1000209\n"
     ]
    }
   ],
   "source": [
    "# from sklearn.model_selection import train_test_split\n",
    "# # Split train test\n",
    "# ratings_train, ratings_test = train_test_split(ratings, test_size=0.2, random_state=7)\n",
    "# training_size = ratings_train.shape[0]\n",
    "# test_size = ratings_test.shape[0]\n",
    "# dataset_size = ratings.shape[0]\n",
    "# print(\"Training data size : {}, pct = {:.2f}%%\".format(training_size, training_size / dataset_size * 100))\n",
    "# print(\"Test data size     : {}, pct = {:.2f}%%\".format(test_size, test_size / dataset_size * 100))\n",
    "# print(\"Dataset size       : {}\".format(dataset_size))"
   ]
  },
  {
   "cell_type": "code",
   "execution_count": 18,
   "metadata": {},
   "outputs": [],
   "source": [
    "# ratings_train.to_csv(ratings_train_path, index=False)\n",
    "# ratings_test.to_csv(ratings_test_path, index=False)"
   ]
  },
  {
   "cell_type": "code",
   "execution_count": 7,
   "metadata": {},
   "outputs": [
    {
     "name": "stdout",
     "output_type": "stream",
     "text": [
      "Training data size :  800167\n"
     ]
    },
    {
     "data": {
      "text/html": [
       "<div>\n",
       "<style scoped>\n",
       "    .dataframe tbody tr th:only-of-type {\n",
       "        vertical-align: middle;\n",
       "    }\n",
       "\n",
       "    .dataframe tbody tr th {\n",
       "        vertical-align: top;\n",
       "    }\n",
       "\n",
       "    .dataframe thead th {\n",
       "        text-align: right;\n",
       "    }\n",
       "</style>\n",
       "<table border=\"1\" class=\"dataframe\">\n",
       "  <thead>\n",
       "    <tr style=\"text-align: right;\">\n",
       "      <th></th>\n",
       "      <th>userId</th>\n",
       "      <th>movieId</th>\n",
       "      <th>rating</th>\n",
       "      <th>unix_timestamp</th>\n",
       "    </tr>\n",
       "  </thead>\n",
       "  <tbody>\n",
       "    <tr>\n",
       "      <th>0</th>\n",
       "      <td>1926</td>\n",
       "      <td>34</td>\n",
       "      <td>4</td>\n",
       "      <td>974692704</td>\n",
       "    </tr>\n",
       "    <tr>\n",
       "      <th>1</th>\n",
       "      <td>3173</td>\n",
       "      <td>1073</td>\n",
       "      <td>5</td>\n",
       "      <td>968791878</td>\n",
       "    </tr>\n",
       "    <tr>\n",
       "      <th>2</th>\n",
       "      <td>5175</td>\n",
       "      <td>2762</td>\n",
       "      <td>5</td>\n",
       "      <td>961861063</td>\n",
       "    </tr>\n",
       "    <tr>\n",
       "      <th>3</th>\n",
       "      <td>4835</td>\n",
       "      <td>3754</td>\n",
       "      <td>2</td>\n",
       "      <td>962895467</td>\n",
       "    </tr>\n",
       "    <tr>\n",
       "      <th>4</th>\n",
       "      <td>4626</td>\n",
       "      <td>2071</td>\n",
       "      <td>5</td>\n",
       "      <td>964114511</td>\n",
       "    </tr>\n",
       "  </tbody>\n",
       "</table>\n",
       "</div>"
      ],
      "text/plain": [
       "   userId  movieId  rating  unix_timestamp\n",
       "0    1926       34       4       974692704\n",
       "1    3173     1073       5       968791878\n",
       "2    5175     2762       5       961861063\n",
       "3    4835     3754       2       962895467\n",
       "4    4626     2071       5       964114511"
      ]
     },
     "execution_count": 7,
     "metadata": {},
     "output_type": "execute_result"
    }
   ],
   "source": [
    "ratings_train2 = pd.read_csv(ratings_train_path2, encoding=\"utf-8\")\n",
    "training_size2 = ratings_train2.shape[0]\n",
    "print(\"Training data size : \", training_size2)\n",
    "ratings_train2.head()"
   ]
  },
  {
   "cell_type": "code",
   "execution_count": null,
   "metadata": {},
   "outputs": [],
   "source": []
  },
  {
   "cell_type": "code",
   "execution_count": 8,
   "metadata": {},
   "outputs": [
    {
     "name": "stdout",
     "output_type": "stream",
     "text": [
      "Test data size :  200042\n"
     ]
    },
    {
     "data": {
      "text/html": [
       "<div>\n",
       "<style scoped>\n",
       "    .dataframe tbody tr th:only-of-type {\n",
       "        vertical-align: middle;\n",
       "    }\n",
       "\n",
       "    .dataframe tbody tr th {\n",
       "        vertical-align: top;\n",
       "    }\n",
       "\n",
       "    .dataframe thead th {\n",
       "        text-align: right;\n",
       "    }\n",
       "</style>\n",
       "<table border=\"1\" class=\"dataframe\">\n",
       "  <thead>\n",
       "    <tr style=\"text-align: right;\">\n",
       "      <th></th>\n",
       "      <th>userId</th>\n",
       "      <th>movieId</th>\n",
       "      <th>rating</th>\n",
       "      <th>unix_timestamp</th>\n",
       "    </tr>\n",
       "  </thead>\n",
       "  <tbody>\n",
       "    <tr>\n",
       "      <th>0</th>\n",
       "      <td>5972</td>\n",
       "      <td>593</td>\n",
       "      <td>5</td>\n",
       "      <td>956952291</td>\n",
       "    </tr>\n",
       "    <tr>\n",
       "      <th>1</th>\n",
       "      <td>5952</td>\n",
       "      <td>2401</td>\n",
       "      <td>4</td>\n",
       "      <td>957145342</td>\n",
       "    </tr>\n",
       "    <tr>\n",
       "      <th>2</th>\n",
       "      <td>4933</td>\n",
       "      <td>1805</td>\n",
       "      <td>2</td>\n",
       "      <td>1011684938</td>\n",
       "    </tr>\n",
       "    <tr>\n",
       "      <th>3</th>\n",
       "      <td>2181</td>\n",
       "      <td>587</td>\n",
       "      <td>2</td>\n",
       "      <td>975634724</td>\n",
       "    </tr>\n",
       "    <tr>\n",
       "      <th>4</th>\n",
       "      <td>2513</td>\n",
       "      <td>1641</td>\n",
       "      <td>5</td>\n",
       "      <td>974072036</td>\n",
       "    </tr>\n",
       "  </tbody>\n",
       "</table>\n",
       "</div>"
      ],
      "text/plain": [
       "   userId  movieId  rating  unix_timestamp\n",
       "0    5972      593       5       956952291\n",
       "1    5952     2401       4       957145342\n",
       "2    4933     1805       2      1011684938\n",
       "3    2181      587       2       975634724\n",
       "4    2513     1641       5       974072036"
      ]
     },
     "execution_count": 8,
     "metadata": {},
     "output_type": "execute_result"
    }
   ],
   "source": [
    "ratings_test2 = pd.read_csv(ratings_test_path2, encoding=\"utf-8\")\n",
    "test_size2 = ratings_test2.shape[0]\n",
    "print(\"Test data size : \", test_size2)\n",
    "ratings_test2.head()"
   ]
  },
  {
   "cell_type": "code",
   "execution_count": 25,
   "metadata": {},
   "outputs": [],
   "source": [
    "# ratings_train_path = os.path.join(data_dir, \"ratings_train.csv\")\n",
    "# ratings_test_path = os.path.join(data_dir, \"ratings_test.csv\")\n",
    "# ratings_train.to_csv(ratings_train_path, encoding=\"utf-8\", index=False)\n",
    "# ratings_test.to_csv(ratings_test_path, encoding=\"utf-8\", index=False)"
   ]
  },
  {
   "cell_type": "code",
   "execution_count": 15,
   "metadata": {},
   "outputs": [
    {
     "name": "stdout",
     "output_type": "stream",
     "text": [
      "Num tags :  1128\n"
     ]
    },
    {
     "data": {
      "text/html": [
       "<div>\n",
       "<style scoped>\n",
       "    .dataframe tbody tr th:only-of-type {\n",
       "        vertical-align: middle;\n",
       "    }\n",
       "\n",
       "    .dataframe tbody tr th {\n",
       "        vertical-align: top;\n",
       "    }\n",
       "\n",
       "    .dataframe thead th {\n",
       "        text-align: right;\n",
       "    }\n",
       "</style>\n",
       "<table border=\"1\" class=\"dataframe\">\n",
       "  <thead>\n",
       "    <tr style=\"text-align: right;\">\n",
       "      <th></th>\n",
       "      <th>tagId</th>\n",
       "      <th>tag</th>\n",
       "    </tr>\n",
       "  </thead>\n",
       "  <tbody>\n",
       "    <tr>\n",
       "      <th>0</th>\n",
       "      <td>1</td>\n",
       "      <td>007</td>\n",
       "    </tr>\n",
       "    <tr>\n",
       "      <th>1</th>\n",
       "      <td>2</td>\n",
       "      <td>007 (series)</td>\n",
       "    </tr>\n",
       "    <tr>\n",
       "      <th>2</th>\n",
       "      <td>3</td>\n",
       "      <td>18th century</td>\n",
       "    </tr>\n",
       "    <tr>\n",
       "      <th>3</th>\n",
       "      <td>4</td>\n",
       "      <td>1920s</td>\n",
       "    </tr>\n",
       "    <tr>\n",
       "      <th>4</th>\n",
       "      <td>5</td>\n",
       "      <td>1930s</td>\n",
       "    </tr>\n",
       "  </tbody>\n",
       "</table>\n",
       "</div>"
      ],
      "text/plain": [
       "   tagId           tag\n",
       "0      1           007\n",
       "1      2  007 (series)\n",
       "2      3  18th century\n",
       "3      4         1920s\n",
       "4      5         1930s"
      ]
     },
     "execution_count": 15,
     "metadata": {},
     "output_type": "execute_result"
    }
   ],
   "source": [
    "# tags = pd.read_csv(tags_file_path, encoding=\"utf-8\")\n",
    "# num_tags = tags.shape[0]\n",
    "# print(\"Num tags : \", num_tags)\n",
    "# tags.head()"
   ]
  },
  {
   "cell_type": "code",
   "execution_count": 16,
   "metadata": {},
   "outputs": [
    {
     "name": "stdout",
     "output_type": "stream",
     "text": [
      "Number records :  11709768\n"
     ]
    },
    {
     "data": {
      "text/html": [
       "<div>\n",
       "<style scoped>\n",
       "    .dataframe tbody tr th:only-of-type {\n",
       "        vertical-align: middle;\n",
       "    }\n",
       "\n",
       "    .dataframe tbody tr th {\n",
       "        vertical-align: top;\n",
       "    }\n",
       "\n",
       "    .dataframe thead th {\n",
       "        text-align: right;\n",
       "    }\n",
       "</style>\n",
       "<table border=\"1\" class=\"dataframe\">\n",
       "  <thead>\n",
       "    <tr style=\"text-align: right;\">\n",
       "      <th></th>\n",
       "      <th>movieId</th>\n",
       "      <th>tagId</th>\n",
       "      <th>relevance</th>\n",
       "    </tr>\n",
       "  </thead>\n",
       "  <tbody>\n",
       "    <tr>\n",
       "      <th>0</th>\n",
       "      <td>1</td>\n",
       "      <td>1</td>\n",
       "      <td>0.02500</td>\n",
       "    </tr>\n",
       "    <tr>\n",
       "      <th>1</th>\n",
       "      <td>1</td>\n",
       "      <td>2</td>\n",
       "      <td>0.02500</td>\n",
       "    </tr>\n",
       "    <tr>\n",
       "      <th>2</th>\n",
       "      <td>1</td>\n",
       "      <td>3</td>\n",
       "      <td>0.05775</td>\n",
       "    </tr>\n",
       "    <tr>\n",
       "      <th>3</th>\n",
       "      <td>1</td>\n",
       "      <td>4</td>\n",
       "      <td>0.09675</td>\n",
       "    </tr>\n",
       "    <tr>\n",
       "      <th>4</th>\n",
       "      <td>1</td>\n",
       "      <td>5</td>\n",
       "      <td>0.14675</td>\n",
       "    </tr>\n",
       "  </tbody>\n",
       "</table>\n",
       "</div>"
      ],
      "text/plain": [
       "   movieId  tagId  relevance\n",
       "0        1      1    0.02500\n",
       "1        1      2    0.02500\n",
       "2        1      3    0.05775\n",
       "3        1      4    0.09675\n",
       "4        1      5    0.14675"
      ]
     },
     "execution_count": 16,
     "metadata": {},
     "output_type": "execute_result"
    }
   ],
   "source": [
    "# genome_scores = pd.read_csv(genome_scores_file_path, encoding=\"utf-8\")\n",
    "# print(\"Number records : \", genome_scores.shape[0])\n",
    "# genome_scores.head()"
   ]
  },
  {
   "cell_type": "code",
   "execution_count": 7,
   "metadata": {},
   "outputs": [],
   "source": [
    "class CollaborativeFiltering():\n",
    "    def __init__(self, ratings_train, dataset_name, k_nearest_neighbors = 10, sim_func=cosine_similarity, uuCF=True):\n",
    "        self.uuCF = uuCF    # uuCF is True if user-user CF, is False if item-item\n",
    "        self.ratings_train = ratings_train if uuCF else ratings_train[:, [1, 0, 2]]    # ndarray type\n",
    "        self.dataset_name = dataset_name\n",
    "        self.k_nearest_neighbors = k_nearest_neighbors\n",
    "        self.sim_func = sim_func\n",
    "        self.map_users_sim = {}\n",
    "        self.algo_name = \"User-User CF\" if uuCF else \"Item-Item CF\"\n",
    "        \n",
    "    \n",
    "    def build_map(self, ndarray):\n",
    "        # Return map from old id to new id, vice versa and new ndarray contain new id\n",
    "        unique_array = np.unique(ndarray)\n",
    "        \n",
    "        map_old_id_to_new = {}\n",
    "        map_new_id_to_old = {}\n",
    "        \n",
    "        for i in range(unique_array.shape[0]):\n",
    "            old_id = unique_array[i]\n",
    "            map_old_id_to_new.update({old_id: i})\n",
    "            map_new_id_to_old.update({i: old_id})\n",
    "            \n",
    "        new_ids = np.array([map_old_id_to_new.get(old_id) for old_id in ndarray])\n",
    "        \n",
    "        return new_ids, map_old_id_to_new, map_new_id_to_old\n",
    "    \n",
    "    def fit(self):\n",
    "        # Build sparse similarity matrix\n",
    "        \n",
    "        self.ratings_train[:, 0], self.map_old_user_id_to_new, self.map_new_user_id_to_old = self.build_map(self.ratings_train[:, 0])\n",
    "        self.ratings_train[:, 1], self.map_old_item_id_to_new, self.map_new_item_id_to_old = self.build_map(self.ratings_train[:, 1])\n",
    "        \n",
    "        self.num_users = len(self.map_old_user_id_to_new)\n",
    "        self.num_items = len(self.map_old_item_id_to_new)\n",
    "        print(\"Num users distinct : \", self.num_users)\n",
    "        print(\"Num items distinct : \", self.num_items)\n",
    "\n",
    "        self.sparse_sim_matrix = sparse.coo_matrix(\n",
    "            (self.ratings_train[:, 2], (self.ratings_train[:, 0], self.ratings_train[:, 1])),\n",
    "            (self.num_users, self.num_items))\n",
    "        self.sparse_sim_matrix = self.sparse_sim_matrix.tocsr()\n",
    "        print(\"{} fit done\".format(self.algo_name))\n",
    "    \n",
    "    def calc_similarity(self, user_id1, user_id2):\n",
    "        if user_id1 > user_id2:\n",
    "            user_id1, user_id2 = user_id2, user_id1\n",
    "        sim = self.map_users_sim.get((user_id1, user_id2))\n",
    "        if sim is None: \n",
    "            features1 = self.sparse_sim_matrix[user_id1, :]\n",
    "            features2 = self.sparse_sim_matrix[user_id2, :]\n",
    "            sim = self.sim_func(features1, features2)\n",
    "            self.map_users_sim.update({(user_id1, user_id2): sim})\n",
    "        \n",
    "        return sim\n",
    "    \n",
    "    def get_user_rated_item(self, item_id):\n",
    "        filter_record_ids = np.where(self.ratings_train[:, 1] == item_id)\n",
    "        if len(filter_record_ids) == 0:\n",
    "            return None, None\n",
    "        rated_users = self.ratings_train[filter_record_ids[0], 0]\n",
    "        ratings = self.ratings_train[filter_record_ids[0], 2]\n",
    "        return rated_users, ratings \n",
    "                                  \n",
    "    # Predict rating of given user_id for movie_id\n",
    "    def predict_rating(self, user_id, item_id, pct_in_batch=None):\n",
    "        \n",
    "        if self.uuCF is False:\n",
    "            user_id, item_id = item_id, user_id\n",
    "        \n",
    "        # Convert to new id\n",
    "        new_user_id = self.map_old_user_id_to_new.get(user_id)\n",
    "        new_item_id = self.map_old_item_id_to_new.get(item_id)\n",
    "        \n",
    "#         print(\"Old user : {}, New user : {}, Old item : {}, New item : {}\".format(user_id, new_user_id, item_id, new_item_id))\n",
    "        \n",
    "        # Check if user_id or item_id doesnt exist in training utility matrix\n",
    "        if new_user_id is not None and new_item_id is not None:\n",
    "            rated_users, ratings = self.get_user_rated_item(new_item_id)\n",
    "            similarity = np.empty_like(ratings, dtype=np.float32)\n",
    "            for i in range(len(similarity)):\n",
    "                similarity[i] = self.calc_similarity(new_user_id, rated_users[i])\n",
    "            pred_rating = np.sum(ratings * (similarity / (similarity.sum() + 1e-16)))\n",
    "        else:\n",
    "            rated_users = []\n",
    "            if new_user_id is not None:\n",
    "                # Pred_rating is mean of user's ratings in training data\n",
    "                pred_rating = self.sparse_sim_matrix[new_user_id, :].mean()\n",
    "            elif new_item_id is not None:\n",
    "                # Pred_rating is mean of movie's ratings in training data\n",
    "                pred_rating = self.sparse_sim_matrix[:, new_item_id].mean()\n",
    "            else:\n",
    "                # Pred_rating is mean of overall ratings in training data\n",
    "                pred_rating = self.sparse_sim_matrix.mean()\n",
    "        \n",
    "        if pct_in_batch is None:\n",
    "            print(\"UserID : {:8d}, MovieID : {:8d}, Number rated : {:5d}, Predict rating : {:.4f}\".format(user_id, item_id, len(rated_users), pred_rating))\n",
    "        else:\n",
    "            print(\"{:6.2f}%  UserID : {:8d}, MovieID : {:8d}, Number rated : {:5d}, Predict rating : {:.4f}\".format(pct_in_batch, user_id, item_id, len(rated_users), pred_rating))\n",
    "\n",
    "        return pred_rating\n",
    "    \n",
    "    def predict_rating_batch(self, ids):\n",
    "        # ids is list of (user_id, movie_id) tuple\n",
    "        batch_size = len(ids)\n",
    "        print(\"Predicting {} ratings ...\".format(batch_size))\n",
    "        pred_ratings = []\n",
    "        for i in range(batch_size):\n",
    "            user_id = ids[i][0]\n",
    "            item_id = ids[i][1]\n",
    "            pct_in_batch = (i + 1) / batch_size * 100\n",
    "            pred_ratings.append(self.predict_rating(user_id, item_id, pct_in_batch))\n",
    "        return np.array(pred_ratings)\n",
    "    \n",
    "    def get_rmse(self, true_ratings, pred_ratings):\n",
    "        return math.sqrt(mean_squared_error(true_ratings, pred_ratings))\n",
    "    \n",
    "    def evaluate_model(self, test_data):\n",
    "        start_time = time.time()\n",
    "\n",
    "        ids = list(zip(list(test_data.userId.values), list(test_data.movieId.values)))\n",
    "        pred_ratings = self.predict_rating_batch(ids)\n",
    "        predicted_data = test_data.copy()\n",
    "        predicted_data[\"Predict rating\"] = pred_ratings\n",
    "        true_ratings = test_data.rating.values\n",
    "        rmse_error = self.get_rmse(true_ratings, pred_ratings)\n",
    "\n",
    "        finish_time = time.time()\n",
    "        exec_time = finish_time - start_time\n",
    "\n",
    "        print(\"\\nSize of evaluate data : \", test_data.shape[0])\n",
    "        print(\"Time : {} seconds\".format(exec_time))\n",
    "        print(\"RMSE : \", rmse_error)\n",
    "\n",
    "        return predicted_data, rmse_error, exec_time\n",
    "    "
   ]
  },
  {
   "cell_type": "code",
   "execution_count": 8,
   "metadata": {},
   "outputs": [
    {
     "name": "stdout",
     "output_type": "stream",
     "text": [
      "Num users distinct :  1680\n",
      "Num items distinct :  943\n",
      "Item-Item CF fit done\n"
     ]
    }
   ],
   "source": [
    "rs1 = CollaborativeFiltering(ratings_train1.iloc[:, :3].values, \"ml-100k\", uuCF=False)\n",
    "rs1.fit()"
   ]
  },
  {
   "cell_type": "code",
   "execution_count": null,
   "metadata": {},
   "outputs": [],
   "source": [
    "predicted_data1, rmse_test_error1, exec_time1 = rs1.evaluate_model(ratings_test1)"
   ]
  },
  {
   "cell_type": "code",
   "execution_count": 10,
   "metadata": {},
   "outputs": [
    {
     "name": "stdout",
     "output_type": "stream",
     "text": [
      "Execute time : 574.3775 seconds\n",
      "RMSE on test data : 1.020564\n"
     ]
    },
    {
     "data": {
      "text/html": [
       "<div>\n",
       "<style scoped>\n",
       "    .dataframe tbody tr th:only-of-type {\n",
       "        vertical-align: middle;\n",
       "    }\n",
       "\n",
       "    .dataframe tbody tr th {\n",
       "        vertical-align: top;\n",
       "    }\n",
       "\n",
       "    .dataframe thead th {\n",
       "        text-align: right;\n",
       "    }\n",
       "</style>\n",
       "<table border=\"1\" class=\"dataframe\">\n",
       "  <thead>\n",
       "    <tr style=\"text-align: right;\">\n",
       "      <th></th>\n",
       "      <th>userId</th>\n",
       "      <th>movieId</th>\n",
       "      <th>rating</th>\n",
       "      <th>unix_timestamp</th>\n",
       "      <th>Predict rating</th>\n",
       "    </tr>\n",
       "  </thead>\n",
       "  <tbody>\n",
       "    <tr>\n",
       "      <th>0</th>\n",
       "      <td>1</td>\n",
       "      <td>20</td>\n",
       "      <td>4</td>\n",
       "      <td>887431883</td>\n",
       "      <td>3.928550</td>\n",
       "    </tr>\n",
       "    <tr>\n",
       "      <th>1</th>\n",
       "      <td>1</td>\n",
       "      <td>33</td>\n",
       "      <td>4</td>\n",
       "      <td>878542699</td>\n",
       "      <td>3.697746</td>\n",
       "    </tr>\n",
       "    <tr>\n",
       "      <th>2</th>\n",
       "      <td>1</td>\n",
       "      <td>61</td>\n",
       "      <td>4</td>\n",
       "      <td>878542420</td>\n",
       "      <td>3.932885</td>\n",
       "    </tr>\n",
       "    <tr>\n",
       "      <th>3</th>\n",
       "      <td>1</td>\n",
       "      <td>117</td>\n",
       "      <td>3</td>\n",
       "      <td>874965739</td>\n",
       "      <td>3.709511</td>\n",
       "    </tr>\n",
       "    <tr>\n",
       "      <th>4</th>\n",
       "      <td>1</td>\n",
       "      <td>155</td>\n",
       "      <td>2</td>\n",
       "      <td>878542201</td>\n",
       "      <td>3.642885</td>\n",
       "    </tr>\n",
       "    <tr>\n",
       "      <th>5</th>\n",
       "      <td>1</td>\n",
       "      <td>160</td>\n",
       "      <td>4</td>\n",
       "      <td>875072547</td>\n",
       "      <td>3.800230</td>\n",
       "    </tr>\n",
       "    <tr>\n",
       "      <th>6</th>\n",
       "      <td>1</td>\n",
       "      <td>171</td>\n",
       "      <td>5</td>\n",
       "      <td>889751711</td>\n",
       "      <td>3.906974</td>\n",
       "    </tr>\n",
       "    <tr>\n",
       "      <th>7</th>\n",
       "      <td>1</td>\n",
       "      <td>189</td>\n",
       "      <td>3</td>\n",
       "      <td>888732928</td>\n",
       "      <td>3.838289</td>\n",
       "    </tr>\n",
       "    <tr>\n",
       "      <th>8</th>\n",
       "      <td>1</td>\n",
       "      <td>202</td>\n",
       "      <td>5</td>\n",
       "      <td>875072442</td>\n",
       "      <td>3.743903</td>\n",
       "    </tr>\n",
       "    <tr>\n",
       "      <th>9</th>\n",
       "      <td>1</td>\n",
       "      <td>265</td>\n",
       "      <td>4</td>\n",
       "      <td>878542441</td>\n",
       "      <td>3.723265</td>\n",
       "    </tr>\n",
       "  </tbody>\n",
       "</table>\n",
       "</div>"
      ],
      "text/plain": [
       "   userId  movieId  rating  unix_timestamp  Predict rating\n",
       "0       1       20       4       887431883        3.928550\n",
       "1       1       33       4       878542699        3.697746\n",
       "2       1       61       4       878542420        3.932885\n",
       "3       1      117       3       874965739        3.709511\n",
       "4       1      155       2       878542201        3.642885\n",
       "5       1      160       4       875072547        3.800230\n",
       "6       1      171       5       889751711        3.906974\n",
       "7       1      189       3       888732928        3.838289\n",
       "8       1      202       5       875072442        3.743903\n",
       "9       1      265       4       878542441        3.723265"
      ]
     },
     "execution_count": 10,
     "metadata": {},
     "output_type": "execute_result"
    }
   ],
   "source": [
    "print(\"Execute time : {:.4f} seconds\".format(exec_time1))\n",
    "print(\"RMSE on test data : {:.6f}\".format(rmse_test_error1))\n",
    "predicted_data1.head(10)"
   ]
  },
  {
   "cell_type": "code",
   "execution_count": 11,
   "metadata": {},
   "outputs": [],
   "source": [
    "# Save predict rating\n",
    "output_path1 = \"./Output/Predict_Data-{}_Model-{}.csv\".format(rs1.dataset_name, rs1.algo_name).replace(\" \", \"\")\n",
    "predicted_data1.to_csv(output_path1, index=False)"
   ]
  },
  {
   "cell_type": "code",
   "execution_count": 10,
   "metadata": {},
   "outputs": [
    {
     "name": "stdout",
     "output_type": "stream",
     "text": [
      "Num users distinct :  3674\n",
      "Num items distinct :  6040\n",
      "Item-Item CF fit done\n"
     ]
    }
   ],
   "source": [
    "# Init instance\n",
    "rs2 = CollaborativeFiltering(ratings_train2.iloc[:, :3].values, \"ml-1m\", uuCF=False)\n",
    "rs2.fit()"
   ]
  },
  {
   "cell_type": "code",
   "execution_count": 23,
   "metadata": {},
   "outputs": [
    {
     "data": {
      "text/plain": [
       "(3674, 6040)"
      ]
     },
     "execution_count": 23,
     "metadata": {},
     "output_type": "execute_result"
    }
   ],
   "source": [
    "rs2.sparse_sim_matrix.shape"
   ]
  },
  {
   "cell_type": "code",
   "execution_count": 25,
   "metadata": {},
   "outputs": [
    {
     "name": "stdout",
     "output_type": "stream",
     "text": [
      "Predicting 3 ratings ...\n",
      " 33.33%  UserID :      593, MovieID :     5972, Number rated :   350, Predict rating : 3.8119\n",
      " 66.67%  UserID :     2401, MovieID :     5952, Number rated :   107, Predict rating : 4.2706\n",
      "100.00%  UserID :     1805, MovieID :     4933, Number rated :   247, Predict rating : 3.6016\n",
      "==================================================================================================\n",
      "UserID :     5972, MovieID :      593 True rating : 5.0, Predict rating : 3.8119\n",
      "UserID :     5952, MovieID :     2401 True rating : 4.0, Predict rating : 4.2706\n",
      "UserID :     4933, MovieID :     1805 True rating : 2.0, Predict rating : 3.6016\n"
     ]
    }
   ],
   "source": [
    "# ids = [(5972, 593), (5952, 2401), (4933, 1805)]\n",
    "# pred_ratings = rs.predict_rating_batch(ids).tolist()\n",
    "# print(\"==================================================================================================\")\n",
    "# for (user_id, movie_id), pred_rating in zip(ids, pred_ratings):\n",
    "#     true_rating = ratings_test[(ratings_test.userId == user_id) & (ratings_test.movieId == movie_id)].rating.values[0]\n",
    "#     print(\"UserID : {:8d}, MovieID : {:8d} True rating : {:.1f}, Predict rating : {:.4f}\".format(user_id, movie_id, true_rating, pred_rating))"
   ]
  },
  {
   "cell_type": "code",
   "execution_count": 22,
   "metadata": {},
   "outputs": [],
   "source": []
  },
  {
   "cell_type": "code",
   "execution_count": null,
   "metadata": {},
   "outputs": [],
   "source": [
    "predicted_data2, rmse_test_error2, exec_time2 = rs2.evaluate_model(ratings_test2.iloc[:1000])"
   ]
  },
  {
   "cell_type": "code",
   "execution_count": 11,
   "metadata": {},
   "outputs": [
    {
     "name": "stdout",
     "output_type": "stream",
     "text": [
      "Execute time : 1051.3008 seconds\n",
      "RMSE on test data : 1.009764\n"
     ]
    },
    {
     "data": {
      "text/html": [
       "<div>\n",
       "<style scoped>\n",
       "    .dataframe tbody tr th:only-of-type {\n",
       "        vertical-align: middle;\n",
       "    }\n",
       "\n",
       "    .dataframe tbody tr th {\n",
       "        vertical-align: top;\n",
       "    }\n",
       "\n",
       "    .dataframe thead th {\n",
       "        text-align: right;\n",
       "    }\n",
       "</style>\n",
       "<table border=\"1\" class=\"dataframe\">\n",
       "  <thead>\n",
       "    <tr style=\"text-align: right;\">\n",
       "      <th></th>\n",
       "      <th>userId</th>\n",
       "      <th>movieId</th>\n",
       "      <th>rating</th>\n",
       "      <th>unix_timestamp</th>\n",
       "      <th>Predict rating</th>\n",
       "    </tr>\n",
       "  </thead>\n",
       "  <tbody>\n",
       "    <tr>\n",
       "      <th>0</th>\n",
       "      <td>5972</td>\n",
       "      <td>593</td>\n",
       "      <td>5</td>\n",
       "      <td>956952291</td>\n",
       "      <td>4.361448</td>\n",
       "    </tr>\n",
       "    <tr>\n",
       "      <th>1</th>\n",
       "      <td>5952</td>\n",
       "      <td>2401</td>\n",
       "      <td>4</td>\n",
       "      <td>957145342</td>\n",
       "      <td>3.749669</td>\n",
       "    </tr>\n",
       "    <tr>\n",
       "      <th>2</th>\n",
       "      <td>4933</td>\n",
       "      <td>1805</td>\n",
       "      <td>2</td>\n",
       "      <td>1011684938</td>\n",
       "      <td>3.410706</td>\n",
       "    </tr>\n",
       "    <tr>\n",
       "      <th>3</th>\n",
       "      <td>2181</td>\n",
       "      <td>587</td>\n",
       "      <td>2</td>\n",
       "      <td>975634724</td>\n",
       "      <td>3.431049</td>\n",
       "    </tr>\n",
       "    <tr>\n",
       "      <th>4</th>\n",
       "      <td>2513</td>\n",
       "      <td>1641</td>\n",
       "      <td>5</td>\n",
       "      <td>974072036</td>\n",
       "      <td>3.872057</td>\n",
       "    </tr>\n",
       "    <tr>\n",
       "      <th>5</th>\n",
       "      <td>2146</td>\n",
       "      <td>2028</td>\n",
       "      <td>5</td>\n",
       "      <td>974623190</td>\n",
       "      <td>4.380173</td>\n",
       "    </tr>\n",
       "    <tr>\n",
       "      <th>6</th>\n",
       "      <td>5111</td>\n",
       "      <td>1363</td>\n",
       "      <td>2</td>\n",
       "      <td>962335163</td>\n",
       "      <td>3.025216</td>\n",
       "    </tr>\n",
       "    <tr>\n",
       "      <th>7</th>\n",
       "      <td>801</td>\n",
       "      <td>1208</td>\n",
       "      <td>5</td>\n",
       "      <td>975400546</td>\n",
       "      <td>4.245515</td>\n",
       "    </tr>\n",
       "    <tr>\n",
       "      <th>8</th>\n",
       "      <td>929</td>\n",
       "      <td>2028</td>\n",
       "      <td>5</td>\n",
       "      <td>975190707</td>\n",
       "      <td>4.352185</td>\n",
       "    </tr>\n",
       "    <tr>\n",
       "      <th>9</th>\n",
       "      <td>3152</td>\n",
       "      <td>1073</td>\n",
       "      <td>3</td>\n",
       "      <td>1019015734</td>\n",
       "      <td>3.881589</td>\n",
       "    </tr>\n",
       "  </tbody>\n",
       "</table>\n",
       "</div>"
      ],
      "text/plain": [
       "   userId  movieId  rating  unix_timestamp  Predict rating\n",
       "0    5972      593       5       956952291        4.361448\n",
       "1    5952     2401       4       957145342        3.749669\n",
       "2    4933     1805       2      1011684938        3.410706\n",
       "3    2181      587       2       975634724        3.431049\n",
       "4    2513     1641       5       974072036        3.872057\n",
       "5    2146     2028       5       974623190        4.380173\n",
       "6    5111     1363       2       962335163        3.025216\n",
       "7     801     1208       5       975400546        4.245515\n",
       "8     929     2028       5       975190707        4.352185\n",
       "9    3152     1073       3      1019015734        3.881589"
      ]
     },
     "execution_count": 11,
     "metadata": {},
     "output_type": "execute_result"
    }
   ],
   "source": [
    "print(\"Execute time : {:.4f} seconds\".format(exec_time2))\n",
    "print(\"RMSE on test data : {:.6f}\".format(rmse_test_error2))\n",
    "predicted_data2.head(10)"
   ]
  },
  {
   "cell_type": "code",
   "execution_count": null,
   "metadata": {},
   "outputs": [],
   "source": []
  }
 ],
 "metadata": {
  "kernelspec": {
   "display_name": "Python 3",
   "language": "python",
   "name": "python3"
  },
  "language_info": {
   "codemirror_mode": {
    "name": "ipython",
    "version": 3
   },
   "file_extension": ".py",
   "mimetype": "text/x-python",
   "name": "python",
   "nbconvert_exporter": "python",
   "pygments_lexer": "ipython3",
   "version": "3.5.2"
  }
 },
 "nbformat": 4,
 "nbformat_minor": 2
}
