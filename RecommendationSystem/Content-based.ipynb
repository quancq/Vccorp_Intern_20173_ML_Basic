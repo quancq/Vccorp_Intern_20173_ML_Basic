{
 "cells": [
  {
   "cell_type": "code",
   "execution_count": 1,
   "metadata": {},
   "outputs": [],
   "source": [
    "import os, time, math\n",
    "import numpy as np\n",
    "import pandas as pd\n",
    "import matplotlib.pyplot as plt"
   ]
  },
  {
   "cell_type": "code",
   "execution_count": 2,
   "metadata": {},
   "outputs": [
    {
     "name": "stdout",
     "output_type": "stream",
     "text": [
      "<class 'pandas.core.frame.DataFrame'>\n",
      "RangeIndex: 943 entries, 0 to 942\n",
      "Data columns (total 5 columns):\n",
      "user_id       943 non-null int64\n",
      "age           943 non-null int64\n",
      "sex           943 non-null object\n",
      "occupation    943 non-null object\n",
      "zipcode       943 non-null object\n",
      "dtypes: int64(2), object(3)\n",
      "memory usage: 36.9+ KB\n",
      "None \n",
      "\n",
      "   user_id  age sex  occupation zipcode\n",
      "0        1   24   M  technician   85711\n",
      "1        2   53   F       other   94043\n",
      "2        3   23   M      writer   32067\n",
      "3        4   24   M  technician   43537\n",
      "4        5   33   F       other   15213\n",
      "\n",
      "Number users :  943\n"
     ]
    }
   ],
   "source": [
    "# Read data\n",
    "data_dir = \"./Data/ml-100k\"\n",
    "train_file_name = \"ua.base\"\n",
    "test_file_name = \"ua.test\"\n",
    "\n",
    "# Read user profile\n",
    "users_file_path = os.path.join(data_dir, \"u.user\")\n",
    "u_cols = [\"user_id\", \"age\", \"sex\", \"occupation\", \"zipcode\"]\n",
    "users = pd.read_csv(users_file_path, sep='|', names=u_cols)\n",
    "print(users.info(), \"\\n\")\n",
    "print(users.head())\n",
    "print(\"\\nNumber users : \", users.shape[0])"
   ]
  },
  {
   "cell_type": "code",
   "execution_count": 5,
   "metadata": {},
   "outputs": [
    {
     "data": {
      "image/png": "[encoded data removed]",
      "text/plain": [
       "<Figure size 432x288 with 1 Axes>"
      ]
     },
     "metadata": {},
     "output_type": "display_data"
    },
    {
     "data": {
      "text/plain": [
       "count    943.000000\n",
       "mean      34.051962\n",
       "std       12.192740\n",
       "min        7.000000\n",
       "25%       25.000000\n",
       "50%       31.000000\n",
       "75%       43.000000\n",
       "max       73.000000\n",
       "Name: age, dtype: float64"
      ]
     },
     "execution_count": 5,
     "metadata": {},
     "output_type": "execute_result"
    }
   ],
   "source": [
    "# Quickly look insight data\n",
    "# Age distribution\n",
    "users.hist(column=\"age\")\n",
    "plt.show()\n",
    "users[\"age\"].describe()"
   ]
  },
  {
   "cell_type": "code",
   "execution_count": 6,
   "metadata": {},
   "outputs": [
    {
     "name": "stdout",
     "output_type": "stream",
     "text": [
      "Number occupations :  21\n"
     ]
    },
    {
     "data": {
      "image/png": "[encoded data removed]",
      "text/plain": [
       "<Figure size 432x504 with 1 Axes>"
      ]
     },
     "metadata": {},
     "output_type": "display_data"
    }
   ],
   "source": [
    "# Stats about occupation\n",
    "users_occupation_stat = users[\"occupation\"].value_counts()\n",
    "ax = users_occupation_stat.plot.barh(figsize=(6,7), rot=0)\n",
    "ax.set(xlabel=\"Number users\", ylabel=\"Occupation\")\n",
    "ax.axvline(users_occupation_stat.mean(), color='gray', linestyle=\"--\", lw=2)\n",
    "print(\"Number occupations : \",users_occupation_stat.shape[0])"
   ]
  },
  {
   "cell_type": "code",
   "execution_count": 7,
   "metadata": {},
   "outputs": [
    {
     "data": {
      "text/plain": [
       "Male      71.05%\n",
       "Female    28.95%\n",
       "Name: sex, dtype: object"
      ]
     },
     "execution_count": 7,
     "metadata": {},
     "output_type": "execute_result"
    }
   ],
   "source": [
    "# Stats about sex\n",
    "users_sex_stat = users.sex.value_counts().rename({\"M\": \"Male\", \"F\": 'Female'})\n",
    "users_sex_stat = users_sex_stat / users_sex_stat.sum() * 100\n",
    "users_sex_stat.apply(lambda x: \"{:.2f}%\".format(x))"
   ]
  },
  {
   "cell_type": "code",
   "execution_count": 16,
   "metadata": {},
   "outputs": [
    {
     "name": "stdout",
     "output_type": "stream",
     "text": [
      "Info training data :\n",
      "<class 'pandas.core.frame.DataFrame'>\n",
      "RangeIndex: 90570 entries, 0 to 90569\n",
      "Data columns (total 4 columns):\n",
      "user_id           90570 non-null int64\n",
      "movie_id          90570 non-null int64\n",
      "rating            90570 non-null int64\n",
      "unix_timestamp    90570 non-null int64\n",
      "dtypes: int64(4)\n",
      "memory usage: 2.8 MB\n",
      "None\n",
      "Example : \n",
      "    user_id  movie_id  rating  unix_timestamp\n",
      "0        1         1       5       874965758\n",
      "1        1         2       3       876893171\n",
      "2        1         3       4       878542960\n",
      "3        1         4       3       876893119\n",
      "4        1         5       3       889751712\n"
     ]
    }
   ],
   "source": [
    "# Read rating file\n",
    "r_cols = [\"user_id\", \"movie_id\", \"rating\", \"unix_timestamp\"]\n",
    "rating_base_path = os.path.join(data_dir, train_file_name)\n",
    "rating_test_path = os.path.join(data_dir, test_file_name)\n",
    "\n",
    "rating_base = pd.read_csv(rating_base_path, sep=\"\\t\", names=r_cols)\n",
    "rating_test = pd.read_csv(rating_test_path, sep=\"\\t\", names=r_cols)\n",
    "\n",
    "print(\"Info training data :\"); print(rating_base.info())\n",
    "print(\"Example : \\n\", rating_base.head())"
   ]
  },
  {
   "cell_type": "code",
   "execution_count": 17,
   "metadata": {},
   "outputs": [
    {
     "name": "stdout",
     "output_type": "stream",
     "text": [
      "Info test data :\n",
      "<class 'pandas.core.frame.DataFrame'>\n",
      "RangeIndex: 9430 entries, 0 to 9429\n",
      "Data columns (total 4 columns):\n",
      "user_id           9430 non-null int64\n",
      "movie_id          9430 non-null int64\n",
      "rating            9430 non-null int64\n",
      "unix_timestamp    9430 non-null int64\n",
      "dtypes: int64(4)\n",
      "memory usage: 294.8 KB\n",
      "None\n",
      "Example : \n",
      "    user_id  movie_id  rating  unix_timestamp\n",
      "0        1        20       4       887431883\n",
      "1        1        33       4       878542699\n",
      "2        1        61       4       878542420\n",
      "3        1       117       3       874965739\n",
      "4        1       155       2       878542201\n"
     ]
    }
   ],
   "source": [
    "print(\"Info test data :\"); print(rating_test.info())\n",
    "print(\"Example : \\n\", rating_test.head())"
   ]
  },
  {
   "cell_type": "code",
   "execution_count": 44,
   "metadata": {},
   "outputs": [
    {
     "name": "stdout",
     "output_type": "stream",
     "text": [
      "4    30858\n",
      "3    24721\n",
      "5    19048\n",
      "2    10375\n",
      "1     5568\n",
      "Name: rating, dtype: int64\n"
     ]
    },
    {
     "data": {
      "text/plain": [
       "<matplotlib.axes._subplots.AxesSubplot at 0x7f60af410780>"
      ]
     },
     "execution_count": 44,
     "metadata": {},
     "output_type": "execute_result"
    },
    {
     "data": {
      "image/png": "[encoded data removed]",
      "text/plain": [
       "<Figure size 360x360 with 1 Axes>"
      ]
     },
     "metadata": {},
     "output_type": "display_data"
    }
   ],
   "source": [
    "# Draw pie chart about rating\n",
    "rating_stat = rating_base[\"rating\"].value_counts()\n",
    "print(rating_stat)\n",
    "rating_stat.plot(kind=\"pie\", labels=rating_stat.index, fontsize=14, autopct=\"%.1f%%\", figsize=(5,5), title=\"Train Rating\")"
   ]
  },
  {
   "cell_type": "code",
   "execution_count": null,
   "metadata": {},
   "outputs": [],
   "source": []
  }
 ],
 "metadata": {
  "kernelspec": {
   "display_name": "Python 3",
   "language": "python",
   "name": "python3"
  },
  "language_info": {
   "codemirror_mode": {
    "name": "ipython",
    "version": 3
   },
   "file_extension": ".py",
   "mimetype": "text/x-python",
   "name": "python",
   "nbconvert_exporter": "python",
   "pygments_lexer": "ipython3",
   "version": "3.5.2"
  }
 },
 "nbformat": 4,
 "nbformat_minor": 2
}
