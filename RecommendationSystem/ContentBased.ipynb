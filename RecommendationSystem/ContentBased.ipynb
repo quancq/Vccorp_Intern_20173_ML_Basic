{
 "cells": [
  {
   "cell_type": "code",
   "execution_count": 2,
   "metadata": {},
   "outputs": [],
   "source": [
    "import os, time, math\n",
    "import numpy as np\n",
    "import pandas as pd\n",
    "import matplotlib.pyplot as plt\n",
    "from scipy import sparse\n",
    "from sklearn.metrics.pairwise import cosine_similarity\n",
    "from sklearn.metrics import mean_squared_error\n",
    "from sklearn.feature_extraction.text import CountVectorizer"
   ]
  },
  {
   "cell_type": "code",
   "execution_count": 3,
   "metadata": {},
   "outputs": [],
   "source": [
    "# Define path of dataset 100K\n",
    "data_dir1 = \"./Data/ml-100k\"\n",
    "ratings_train_path1 = os.path.join(data_dir1, \"ua.base\")\n",
    "ratings_test_path1 = os.path.join(data_dir1, \"ua.test\")\n",
    "items_file_path1 = os.path.join(data_dir1, \"u.item\")\n",
    "users_file_path1 = os.path.join(data_dir1, \"u.user\")"
   ]
  },
  {
   "cell_type": "code",
   "execution_count": 4,
   "metadata": {},
   "outputs": [
    {
     "name": "stdout",
     "output_type": "stream",
     "text": [
      "Number of users: 943\n"
     ]
    }
   ],
   "source": [
    "# Read users file\n",
    "u_cols1 =  ['userId', 'age', 'sex', 'occupation', 'zip_code']\n",
    "users1 = pd.read_csv(users_file_path1, sep='|', names=u_cols1, encoding='latin-1')\n",
    "\n",
    "n_users1 = users1.shape[0]\n",
    "print(\"Number of users:\", n_users1)"
   ]
  },
  {
   "cell_type": "code",
   "execution_count": 5,
   "metadata": {},
   "outputs": [
    {
     "name": "stdout",
     "output_type": "stream",
     "text": [
      "Training data size :  90570\n",
      "Test data size     :  9430\n"
     ]
    }
   ],
   "source": [
    "# Read ratings file\n",
    "r_cols1 = ['userId', 'movieId', 'rating', 'unix_timestamp']\n",
    "\n",
    "ratings_train1 = pd.read_csv(ratings_train_path1, sep='\\t', names=r_cols1, encoding='latin-1')\n",
    "ratings_test1 = pd.read_csv(ratings_test_path1, sep='\\t', names=r_cols1, encoding='latin-1')\n",
    "\n",
    "print(\"Training data size : \", ratings_train1.shape[0])\n",
    "print(\"Test data size     : \", ratings_test1.shape[0])"
   ]
  },
  {
   "cell_type": "code",
   "execution_count": 6,
   "metadata": {},
   "outputs": [
    {
     "name": "stdout",
     "output_type": "stream",
     "text": [
      "Number of items: 1682\n"
     ]
    }
   ],
   "source": [
    "#Reading items file:\n",
    "i_cols1 = ['movieId', 'movie title' ,'release date','video release date', 'IMDb URL', 'unknown', 'Action', 'Adventure',\n",
    " 'Animation', 'Children\\'s', 'Comedy', 'Crime', 'Documentary', 'Drama', 'Fantasy',\n",
    " 'Film-Noir', 'Horror', 'Musical', 'Mystery', 'Romance', 'Sci-Fi', 'Thriller', 'War', 'Western']\n",
    "\n",
    "items1 = pd.read_csv(items_file_path1, sep='|', names=i_cols1, encoding='latin-1')\n",
    "\n",
    "n_items1 = items1.shape[0]\n",
    "print(\"Number of items:\", n_items1)"
   ]
  },
  {
   "cell_type": "code",
   "execution_count": 3,
   "metadata": {},
   "outputs": [],
   "source": [
    "def convert_genres_names(genres_names):\n",
    "    genres_names = genres_names.replace(\"(no genres listed)\", \"Unknown\")\n",
    "    genres_names = genres_names.replace('|', ' ')\n",
    "    genres_names = genres_names.replace('-', '')\n",
    "    return genres_names"
   ]
  },
  {
   "cell_type": "code",
   "execution_count": 4,
   "metadata": {},
   "outputs": [],
   "source": [
    "# Define path of dataset 1M\n",
    "data_dir2 = \"./Data/ml-1m\"\n",
    "ratings_file_path2 = os.path.join(data_dir2, \"ratings.dat\")\n",
    "items_file_path2 = os.path.join(data_dir2, \"movies.dat\")\n",
    "# ratings_path2 = os.path.join(data_dir2, \"ratings.dat\")\n",
    "ratings_train_path2 = os.path.join(data_dir2, \"ratings_train.csv\")\n",
    "ratings_test_path2 = os.path.join(data_dir2, \"ratings_test.csv\")"
   ]
  },
  {
   "cell_type": "code",
   "execution_count": 5,
   "metadata": {},
   "outputs": [
    {
     "name": "stdout",
     "output_type": "stream",
     "text": [
      "Number of items (movies) :  3883\n",
      "Example items:\n"
     ]
    },
    {
     "name": "stderr",
     "output_type": "stream",
     "text": [
      "/home/quanchu/.local/lib/python3.5/site-packages/ipykernel_launcher.py:3: ParserWarning: Falling back to the 'python' engine because the 'c' engine does not support regex separators (separators > 1 char and different from '\\s+' are interpreted as regex); you can avoid this warning by specifying engine='python'.\n",
      "  This is separate from the ipykernel package so we can avoid doing imports until\n"
     ]
    },
    {
     "data": {
      "text/html": [
       "<div>\n",
       "<style scoped>\n",
       "    .dataframe tbody tr th:only-of-type {\n",
       "        vertical-align: middle;\n",
       "    }\n",
       "\n",
       "    .dataframe tbody tr th {\n",
       "        vertical-align: top;\n",
       "    }\n",
       "\n",
       "    .dataframe thead th {\n",
       "        text-align: right;\n",
       "    }\n",
       "</style>\n",
       "<table border=\"1\" class=\"dataframe\">\n",
       "  <thead>\n",
       "    <tr style=\"text-align: right;\">\n",
       "      <th></th>\n",
       "      <th>movieId</th>\n",
       "      <th>title</th>\n",
       "      <th>genres</th>\n",
       "    </tr>\n",
       "  </thead>\n",
       "  <tbody>\n",
       "    <tr>\n",
       "      <th>0</th>\n",
       "      <td>1</td>\n",
       "      <td>Toy Story (1995)</td>\n",
       "      <td>Animation Children's Comedy</td>\n",
       "    </tr>\n",
       "    <tr>\n",
       "      <th>1</th>\n",
       "      <td>2</td>\n",
       "      <td>Jumanji (1995)</td>\n",
       "      <td>Adventure Children's Fantasy</td>\n",
       "    </tr>\n",
       "    <tr>\n",
       "      <th>2</th>\n",
       "      <td>3</td>\n",
       "      <td>Grumpier Old Men (1995)</td>\n",
       "      <td>Comedy Romance</td>\n",
       "    </tr>\n",
       "  </tbody>\n",
       "</table>\n",
       "</div>"
      ],
      "text/plain": [
       "   movieId                    title                        genres\n",
       "0        1         Toy Story (1995)   Animation Children's Comedy\n",
       "1        2           Jumanji (1995)  Adventure Children's Fantasy\n",
       "2        3  Grumpier Old Men (1995)                Comedy Romance"
      ]
     },
     "execution_count": 5,
     "metadata": {},
     "output_type": "execute_result"
    }
   ],
   "source": [
    "# Reading items file:\n",
    "i_cols2 = [\"movieId\", \"title\", \"genres\"]\n",
    "items2 = pd.read_csv(items_file_path2, encoding=\"latin-1\", sep=\"::\", names=i_cols2)\n",
    "\n",
    "num_items2 = items2.shape[0]\n",
    "print(\"Number of items (movies) : \", num_items2)\n",
    "items2[\"genres\"] = items2[\"genres\"].apply(convert_genres_names)\n",
    "# print(items.info())\n",
    "print(\"Example items:\")\n",
    "items2.head(3)"
   ]
  },
  {
   "cell_type": "code",
   "execution_count": 6,
   "metadata": {},
   "outputs": [
    {
     "name": "stdout",
     "output_type": "stream",
     "text": [
      "Training data size :  800167\n"
     ]
    },
    {
     "data": {
      "text/html": [
       "<div>\n",
       "<style scoped>\n",
       "    .dataframe tbody tr th:only-of-type {\n",
       "        vertical-align: middle;\n",
       "    }\n",
       "\n",
       "    .dataframe tbody tr th {\n",
       "        vertical-align: top;\n",
       "    }\n",
       "\n",
       "    .dataframe thead th {\n",
       "        text-align: right;\n",
       "    }\n",
       "</style>\n",
       "<table border=\"1\" class=\"dataframe\">\n",
       "  <thead>\n",
       "    <tr style=\"text-align: right;\">\n",
       "      <th></th>\n",
       "      <th>userId</th>\n",
       "      <th>movieId</th>\n",
       "      <th>rating</th>\n",
       "      <th>unix_timestamp</th>\n",
       "    </tr>\n",
       "  </thead>\n",
       "  <tbody>\n",
       "    <tr>\n",
       "      <th>0</th>\n",
       "      <td>1926</td>\n",
       "      <td>34</td>\n",
       "      <td>4</td>\n",
       "      <td>974692704</td>\n",
       "    </tr>\n",
       "    <tr>\n",
       "      <th>1</th>\n",
       "      <td>3173</td>\n",
       "      <td>1073</td>\n",
       "      <td>5</td>\n",
       "      <td>968791878</td>\n",
       "    </tr>\n",
       "    <tr>\n",
       "      <th>2</th>\n",
       "      <td>5175</td>\n",
       "      <td>2762</td>\n",
       "      <td>5</td>\n",
       "      <td>961861063</td>\n",
       "    </tr>\n",
       "    <tr>\n",
       "      <th>3</th>\n",
       "      <td>4835</td>\n",
       "      <td>3754</td>\n",
       "      <td>2</td>\n",
       "      <td>962895467</td>\n",
       "    </tr>\n",
       "    <tr>\n",
       "      <th>4</th>\n",
       "      <td>4626</td>\n",
       "      <td>2071</td>\n",
       "      <td>5</td>\n",
       "      <td>964114511</td>\n",
       "    </tr>\n",
       "  </tbody>\n",
       "</table>\n",
       "</div>"
      ],
      "text/plain": [
       "   userId  movieId  rating  unix_timestamp\n",
       "0    1926       34       4       974692704\n",
       "1    3173     1073       5       968791878\n",
       "2    5175     2762       5       961861063\n",
       "3    4835     3754       2       962895467\n",
       "4    4626     2071       5       964114511"
      ]
     },
     "execution_count": 6,
     "metadata": {},
     "output_type": "execute_result"
    }
   ],
   "source": [
    "ratings_train2 = pd.read_csv(ratings_train_path2, encoding=\"utf-8\")\n",
    "training_size2 = ratings_train2.shape[0]\n",
    "print(\"Training data size : \", training_size2)\n",
    "ratings_train2.head()"
   ]
  },
  {
   "cell_type": "code",
   "execution_count": 7,
   "metadata": {},
   "outputs": [
    {
     "name": "stdout",
     "output_type": "stream",
     "text": [
      "Test data size :  200042\n"
     ]
    },
    {
     "data": {
      "text/html": [
       "<div>\n",
       "<style scoped>\n",
       "    .dataframe tbody tr th:only-of-type {\n",
       "        vertical-align: middle;\n",
       "    }\n",
       "\n",
       "    .dataframe tbody tr th {\n",
       "        vertical-align: top;\n",
       "    }\n",
       "\n",
       "    .dataframe thead th {\n",
       "        text-align: right;\n",
       "    }\n",
       "</style>\n",
       "<table border=\"1\" class=\"dataframe\">\n",
       "  <thead>\n",
       "    <tr style=\"text-align: right;\">\n",
       "      <th></th>\n",
       "      <th>userId</th>\n",
       "      <th>movieId</th>\n",
       "      <th>rating</th>\n",
       "      <th>unix_timestamp</th>\n",
       "    </tr>\n",
       "  </thead>\n",
       "  <tbody>\n",
       "    <tr>\n",
       "      <th>0</th>\n",
       "      <td>5972</td>\n",
       "      <td>593</td>\n",
       "      <td>5</td>\n",
       "      <td>956952291</td>\n",
       "    </tr>\n",
       "    <tr>\n",
       "      <th>1</th>\n",
       "      <td>5952</td>\n",
       "      <td>2401</td>\n",
       "      <td>4</td>\n",
       "      <td>957145342</td>\n",
       "    </tr>\n",
       "    <tr>\n",
       "      <th>2</th>\n",
       "      <td>4933</td>\n",
       "      <td>1805</td>\n",
       "      <td>2</td>\n",
       "      <td>1011684938</td>\n",
       "    </tr>\n",
       "    <tr>\n",
       "      <th>3</th>\n",
       "      <td>2181</td>\n",
       "      <td>587</td>\n",
       "      <td>2</td>\n",
       "      <td>975634724</td>\n",
       "    </tr>\n",
       "    <tr>\n",
       "      <th>4</th>\n",
       "      <td>2513</td>\n",
       "      <td>1641</td>\n",
       "      <td>5</td>\n",
       "      <td>974072036</td>\n",
       "    </tr>\n",
       "  </tbody>\n",
       "</table>\n",
       "</div>"
      ],
      "text/plain": [
       "   userId  movieId  rating  unix_timestamp\n",
       "0    5972      593       5       956952291\n",
       "1    5952     2401       4       957145342\n",
       "2    4933     1805       2      1011684938\n",
       "3    2181      587       2       975634724\n",
       "4    2513     1641       5       974072036"
      ]
     },
     "execution_count": 7,
     "metadata": {},
     "output_type": "execute_result"
    }
   ],
   "source": [
    "ratings_test2 = pd.read_csv(ratings_test_path2, encoding=\"utf-8\")\n",
    "test_size2 = ratings_test2.shape[0]\n",
    "print(\"Test data size : \", test_size2)\n",
    "ratings_test2.head()"
   ]
  },
  {
   "cell_type": "code",
   "execution_count": null,
   "metadata": {},
   "outputs": [],
   "source": []
  },
  {
   "cell_type": "code",
   "execution_count": null,
   "metadata": {},
   "outputs": [],
   "source": []
  },
  {
   "cell_type": "code",
   "execution_count": 7,
   "metadata": {},
   "outputs": [],
   "source": [
    "class ContentBased():\n",
    "    def __init__(self, items, ratings, dataset_name, sim_func=cosine_similarity):\n",
    "        self.items = items\n",
    "        self.ratings = ratings\n",
    "        self.dataset_name = dataset_name\n",
    "        self.sim_func = sim_func\n",
    "        self.map_items_sim = {}\n",
    "        self.algo_name = \"Content Based\"\n",
    "    \n",
    "    def fit(self):\n",
    "        # Build features matrix\n",
    "        if self.dataset_name == \"ml-100k\":\n",
    "            self.sparse_sim_matrix = sparse.csr_matrix(self.items.iloc[:, 5:].values)\n",
    "            self.sparse_sim_matrix = cosine_similarity(self.sparse_sim_matrix, self.sparse_sim_matrix)\n",
    "            \n",
    "        elif self.dataset_name == \"ml-1m\":\n",
    "            count_vectorizer = CountVectorizer()\n",
    "            self.sparse_sim_matrix = count_vectorizer.fit_transform(self.items.genres.values)\n",
    "            self.sparse_sim_matrix = cosine_similarity(self.sparse_sim_matrix, self.sparse_sim_matrix)\n",
    "            print(\"Vocabulary : \", count_vectorizer.vocabulary_)\n",
    "            print(\"Number genres : \", self.sparse_sim_matrix.shape[1])\n",
    "            \n",
    "#             # Build map\n",
    "            self.map_item_id_to_idx = {row.movieId: index for index, row in self.items.iterrows()}\n",
    "        \n",
    "        print(\"Shape of sparse features matrix : \", self.sparse_sim_matrix.shape)\n",
    "        print(\"{} fit done\".format(self.algo_name))\n",
    "        \n",
    "    def calc_similarity(self, item_id1, item_id2):\n",
    "        if self.dataset_name == \"ml-100k\":\n",
    "            item_id1 -= 1\n",
    "            item_id2 -= 1\n",
    "            sim = self.sparse_sim_matrix[item_id1, item_id2]\n",
    "            \n",
    "        elif self.dataset_name == \"ml-1m\":\n",
    "                \n",
    "#             if item_id1 > item_id2:\n",
    "#                 item_id1, item_id2 = item_id2, item_id1\n",
    "\n",
    "#             sim = self.map_items_sim.get((item_id1, item_id2))\n",
    "#             if sim is None:\n",
    "#                 features1 = self.sparse_sim_matrix[self.map_item_id_to_idx.get(item_id1)].reshape(1, -1)    # Reshape to 2D array\n",
    "#                 features2 = self.sparse_sim_matrix[self.map_item_id_to_idx.get(item_id2)].reshape(1, -1)\n",
    "#                 sim = self.sim_func(features1, features2)\n",
    "#                 self.map_items_sim.update({(item_id1, item_id2): sim})\n",
    "            sim = self.sparse_sim_matrix[self.map_item_id_to_idx.get(item_id1), self.map_item_id_to_idx.get(item_id2)]\n",
    "\n",
    "        return sim\n",
    "    \n",
    "    def get_rated_items(self, user_id):\n",
    "        filtered_records = self.ratings[self.ratings[\"userId\"] == user_id]\n",
    "        item_ids = filtered_records[\"movieId\"].values        # ndarray type\n",
    "        ratings = filtered_records[\"rating\"].values\n",
    "        return item_ids, ratings\n",
    "    \n",
    "    # Predict rating of given user_id for item_id\n",
    "    def predict_rating(self, user_id, item_id, pct_in_batch=None):\n",
    "        \n",
    "        rated_item_ids, ratings = self.get_rated_items(user_id)\n",
    "        similarity = np.empty_like(ratings, dtype=np.float32)\n",
    "        for i in range(len(rated_item_ids)):\n",
    "            similarity[i] = self.calc_similarity(item_id, rated_item_ids[i])\n",
    "        pred_rating = np.sum(ratings * (similarity / (similarity.sum() + 1e-16)))\n",
    "        if pct_in_batch is None:\n",
    "            print(\"UserID : {:8d}, MovieID : {:8d}, Number users rated movies : {:5d}, Predict rating : {:.4f}\".format(user_id, item_id, len(rated_item_ids), pred_rating))\n",
    "        else:\n",
    "            print(\"{:6.2f}%  UserID : {:8d}, MovieID : {:8d}, Number users rated movies : {:5d}, Predict rating : {:.4f}\".format(pct_in_batch, user_id, item_id, len(rated_item_ids), pred_rating))\n",
    "\n",
    "        return pred_rating\n",
    "\n",
    "    def predict_rating_batch(self, ids):\n",
    "        # ids is list of (user_id, movie_id) tuple\n",
    "        batch_size = len(ids)\n",
    "        print(\"Predicting {} ratings ...\".format(batch_size))\n",
    "        pred_ratings = []\n",
    "        for i in range(batch_size):\n",
    "            user_id = ids[i][0]\n",
    "            item_id = ids[i][1]\n",
    "            pct_in_batch = (i + 1) / batch_size * 100\n",
    "            pred_ratings.append(self.predict_rating(user_id, item_id, pct_in_batch))\n",
    "        return np.array(pred_ratings)\n",
    "\n",
    "    def get_rmse(self, true_ratings, pred_ratings):\n",
    "        return math.sqrt(mean_squared_error(true_ratings, pred_ratings))\n",
    "\n",
    "    def evaluate_model(self, test_data):\n",
    "        start_time = time.time()\n",
    "\n",
    "        ids = list(zip(list(test_data.userId.values), list(test_data.movieId.values)))\n",
    "        pred_ratings = self.predict_rating_batch(ids)\n",
    "        predicted_data = test_data.copy()\n",
    "        predicted_data[\"Predict rating\"] = pred_ratings\n",
    "        true_ratings = test_data.rating.values\n",
    "        rmse_error = self.get_rmse(true_ratings, pred_ratings)\n",
    "\n",
    "        finish_time = time.time()\n",
    "        exec_time = finish_time - start_time\n",
    "\n",
    "        print(\"\\nSize of evaluate data : \", test_data.shape[0])\n",
    "        print(\"Time : {} seconds\".format(exec_time))\n",
    "        print(\"RMSE : \", rmse_error)\n",
    "\n",
    "        return predicted_data, rmse_error, exec_time"
   ]
  },
  {
   "cell_type": "code",
   "execution_count": 9,
   "metadata": {},
   "outputs": [
    {
     "name": "stdout",
     "output_type": "stream",
     "text": [
      "Shape of sparse features matrix :  (1682, 1682)\n",
      "Content Based fit done\n"
     ]
    }
   ],
   "source": [
    "rs1 = ContentBased(items1, ratings_train1, \"ml-100k\")\n",
    "rs1.fit()"
   ]
  },
  {
   "cell_type": "code",
   "execution_count": null,
   "metadata": {},
   "outputs": [],
   "source": []
  },
  {
   "cell_type": "code",
   "execution_count": null,
   "metadata": {},
   "outputs": [],
   "source": [
    "predicted_data1, rmse_test_error1, exec_time1 = rs1.evaluate_model(ratings_test1)"
   ]
  },
  {
   "cell_type": "code",
   "execution_count": 11,
   "metadata": {},
   "outputs": [
    {
     "name": "stdout",
     "output_type": "stream",
     "text": [
      "Execute time : 22.3253 seconds\n",
      "RMSE on test data : 1.096987\n"
     ]
    },
    {
     "data": {
      "text/html": [
       "<div>\n",
       "<style scoped>\n",
       "    .dataframe tbody tr th:only-of-type {\n",
       "        vertical-align: middle;\n",
       "    }\n",
       "\n",
       "    .dataframe tbody tr th {\n",
       "        vertical-align: top;\n",
       "    }\n",
       "\n",
       "    .dataframe thead th {\n",
       "        text-align: right;\n",
       "    }\n",
       "</style>\n",
       "<table border=\"1\" class=\"dataframe\">\n",
       "  <thead>\n",
       "    <tr style=\"text-align: right;\">\n",
       "      <th></th>\n",
       "      <th>userId</th>\n",
       "      <th>movieId</th>\n",
       "      <th>rating</th>\n",
       "      <th>unix_timestamp</th>\n",
       "      <th>Predict rating</th>\n",
       "    </tr>\n",
       "  </thead>\n",
       "  <tbody>\n",
       "    <tr>\n",
       "      <th>0</th>\n",
       "      <td>1</td>\n",
       "      <td>20</td>\n",
       "      <td>4</td>\n",
       "      <td>887431883</td>\n",
       "      <td>3.954298</td>\n",
       "    </tr>\n",
       "    <tr>\n",
       "      <th>1</th>\n",
       "      <td>1</td>\n",
       "      <td>33</td>\n",
       "      <td>4</td>\n",
       "      <td>878542699</td>\n",
       "      <td>3.553789</td>\n",
       "    </tr>\n",
       "    <tr>\n",
       "      <th>2</th>\n",
       "      <td>1</td>\n",
       "      <td>61</td>\n",
       "      <td>4</td>\n",
       "      <td>878542420</td>\n",
       "      <td>3.975465</td>\n",
       "    </tr>\n",
       "    <tr>\n",
       "      <th>3</th>\n",
       "      <td>1</td>\n",
       "      <td>117</td>\n",
       "      <td>3</td>\n",
       "      <td>874965739</td>\n",
       "      <td>3.307714</td>\n",
       "    </tr>\n",
       "    <tr>\n",
       "      <th>4</th>\n",
       "      <td>1</td>\n",
       "      <td>155</td>\n",
       "      <td>2</td>\n",
       "      <td>878542201</td>\n",
       "      <td>3.672359</td>\n",
       "    </tr>\n",
       "    <tr>\n",
       "      <th>5</th>\n",
       "      <td>1</td>\n",
       "      <td>160</td>\n",
       "      <td>4</td>\n",
       "      <td>875072547</td>\n",
       "      <td>3.975465</td>\n",
       "    </tr>\n",
       "    <tr>\n",
       "      <th>6</th>\n",
       "      <td>1</td>\n",
       "      <td>171</td>\n",
       "      <td>5</td>\n",
       "      <td>889751711</td>\n",
       "      <td>3.621108</td>\n",
       "    </tr>\n",
       "    <tr>\n",
       "      <th>7</th>\n",
       "      <td>1</td>\n",
       "      <td>189</td>\n",
       "      <td>3</td>\n",
       "      <td>888732928</td>\n",
       "      <td>3.476090</td>\n",
       "    </tr>\n",
       "    <tr>\n",
       "      <th>8</th>\n",
       "      <td>1</td>\n",
       "      <td>202</td>\n",
       "      <td>5</td>\n",
       "      <td>875072442</td>\n",
       "      <td>3.592361</td>\n",
       "    </tr>\n",
       "    <tr>\n",
       "      <th>9</th>\n",
       "      <td>1</td>\n",
       "      <td>265</td>\n",
       "      <td>4</td>\n",
       "      <td>878542441</td>\n",
       "      <td>3.438173</td>\n",
       "    </tr>\n",
       "  </tbody>\n",
       "</table>\n",
       "</div>"
      ],
      "text/plain": [
       "   userId  movieId  rating  unix_timestamp  Predict rating\n",
       "0       1       20       4       887431883        3.954298\n",
       "1       1       33       4       878542699        3.553789\n",
       "2       1       61       4       878542420        3.975465\n",
       "3       1      117       3       874965739        3.307714\n",
       "4       1      155       2       878542201        3.672359\n",
       "5       1      160       4       875072547        3.975465\n",
       "6       1      171       5       889751711        3.621108\n",
       "7       1      189       3       888732928        3.476090\n",
       "8       1      202       5       875072442        3.592361\n",
       "9       1      265       4       878542441        3.438173"
      ]
     },
     "execution_count": 11,
     "metadata": {},
     "output_type": "execute_result"
    }
   ],
   "source": [
    "print(\"Execute time : {:.4f} seconds\".format(exec_time1))\n",
    "print(\"RMSE on test data : {:.6f}\".format(rmse_test_error1))\n",
    "predicted_data1.head(10)"
   ]
  },
  {
   "cell_type": "code",
   "execution_count": 12,
   "metadata": {},
   "outputs": [],
   "source": [
    "# Save predict rating\n",
    "output_path1 = \"./Output/Predict_Data-{}_Model-{}.csv\".format(rs1.dataset_name, rs1.algo_name).replace(\" \", \"\")\n",
    "predicted_data1.to_csv(output_path1, index=False)"
   ]
  },
  {
   "cell_type": "code",
   "execution_count": 9,
   "metadata": {},
   "outputs": [
    {
     "name": "stdout",
     "output_type": "stream",
     "text": [
      "Vocabulary :  {'horror': 10, 'musical': 11, 'romance': 13, 'scifi': 14, 'comedy': 4, 'fantasy': 8, 'mystery': 12, 'war': 16, 'documentary': 6, 'crime': 5, 'adventure': 1, 'filmnoir': 9, 'action': 0, 'animation': 2, 'western': 17, 'drama': 7, 'thriller': 15, 'children': 3}\n",
      "Number genres :  3883\n",
      "Shape of sparse features matrix :  (3883, 3883)\n",
      "Content Based fit done\n"
     ]
    }
   ],
   "source": [
    "rs2 = ContentBased(items2, ratings_train2, \"ml-1m\")\n",
    "rs2.fit()"
   ]
  },
  {
   "cell_type": "code",
   "execution_count": null,
   "metadata": {},
   "outputs": [],
   "source": [
    "predicted_data2, rmse_test_error2, exec_time2 = rs2.evaluate_model(ratings_test2[:1000])"
   ]
  },
  {
   "cell_type": "code",
   "execution_count": 13,
   "metadata": {},
   "outputs": [
    {
     "name": "stdout",
     "output_type": "stream",
     "text": [
      "Execute time : 5.5095 seconds\n",
      "RMSE on test data : 1.024142\n"
     ]
    },
    {
     "data": {
      "text/html": [
       "<div>\n",
       "<style scoped>\n",
       "    .dataframe tbody tr th:only-of-type {\n",
       "        vertical-align: middle;\n",
       "    }\n",
       "\n",
       "    .dataframe tbody tr th {\n",
       "        vertical-align: top;\n",
       "    }\n",
       "\n",
       "    .dataframe thead th {\n",
       "        text-align: right;\n",
       "    }\n",
       "</style>\n",
       "<table border=\"1\" class=\"dataframe\">\n",
       "  <thead>\n",
       "    <tr style=\"text-align: right;\">\n",
       "      <th></th>\n",
       "      <th>userId</th>\n",
       "      <th>movieId</th>\n",
       "      <th>rating</th>\n",
       "      <th>unix_timestamp</th>\n",
       "      <th>Predict rating</th>\n",
       "    </tr>\n",
       "  </thead>\n",
       "  <tbody>\n",
       "    <tr>\n",
       "      <th>0</th>\n",
       "      <td>5972</td>\n",
       "      <td>593</td>\n",
       "      <td>5</td>\n",
       "      <td>956952291</td>\n",
       "      <td>3.737640</td>\n",
       "    </tr>\n",
       "    <tr>\n",
       "      <th>1</th>\n",
       "      <td>5952</td>\n",
       "      <td>2401</td>\n",
       "      <td>4</td>\n",
       "      <td>957145342</td>\n",
       "      <td>4.287001</td>\n",
       "    </tr>\n",
       "    <tr>\n",
       "      <th>2</th>\n",
       "      <td>4933</td>\n",
       "      <td>1805</td>\n",
       "      <td>2</td>\n",
       "      <td>1011684938</td>\n",
       "      <td>3.625283</td>\n",
       "    </tr>\n",
       "    <tr>\n",
       "      <th>3</th>\n",
       "      <td>2181</td>\n",
       "      <td>587</td>\n",
       "      <td>2</td>\n",
       "      <td>975634724</td>\n",
       "      <td>3.384232</td>\n",
       "    </tr>\n",
       "    <tr>\n",
       "      <th>4</th>\n",
       "      <td>2513</td>\n",
       "      <td>1641</td>\n",
       "      <td>5</td>\n",
       "      <td>974072036</td>\n",
       "      <td>4.066898</td>\n",
       "    </tr>\n",
       "    <tr>\n",
       "      <th>5</th>\n",
       "      <td>2146</td>\n",
       "      <td>2028</td>\n",
       "      <td>5</td>\n",
       "      <td>974623190</td>\n",
       "      <td>3.353536</td>\n",
       "    </tr>\n",
       "    <tr>\n",
       "      <th>6</th>\n",
       "      <td>5111</td>\n",
       "      <td>1363</td>\n",
       "      <td>2</td>\n",
       "      <td>962335163</td>\n",
       "      <td>3.647100</td>\n",
       "    </tr>\n",
       "    <tr>\n",
       "      <th>7</th>\n",
       "      <td>801</td>\n",
       "      <td>1208</td>\n",
       "      <td>5</td>\n",
       "      <td>975400546</td>\n",
       "      <td>3.846577</td>\n",
       "    </tr>\n",
       "    <tr>\n",
       "      <th>8</th>\n",
       "      <td>929</td>\n",
       "      <td>2028</td>\n",
       "      <td>5</td>\n",
       "      <td>975190707</td>\n",
       "      <td>3.719731</td>\n",
       "    </tr>\n",
       "    <tr>\n",
       "      <th>9</th>\n",
       "      <td>3152</td>\n",
       "      <td>1073</td>\n",
       "      <td>3</td>\n",
       "      <td>1019015734</td>\n",
       "      <td>3.138401</td>\n",
       "    </tr>\n",
       "  </tbody>\n",
       "</table>\n",
       "</div>"
      ],
      "text/plain": [
       "   userId  movieId  rating  unix_timestamp  Predict rating\n",
       "0    5972      593       5       956952291        3.737640\n",
       "1    5952     2401       4       957145342        4.287001\n",
       "2    4933     1805       2      1011684938        3.625283\n",
       "3    2181      587       2       975634724        3.384232\n",
       "4    2513     1641       5       974072036        4.066898\n",
       "5    2146     2028       5       974623190        3.353536\n",
       "6    5111     1363       2       962335163        3.647100\n",
       "7     801     1208       5       975400546        3.846577\n",
       "8     929     2028       5       975190707        3.719731\n",
       "9    3152     1073       3      1019015734        3.138401"
      ]
     },
     "execution_count": 13,
     "metadata": {},
     "output_type": "execute_result"
    }
   ],
   "source": [
    "print(\"Execute time : {:.4f} seconds\".format(exec_time2))\n",
    "print(\"RMSE on test data : {:.6f}\".format(rmse_test_error2))\n",
    "predicted_data2.head(10)"
   ]
  },
  {
   "cell_type": "code",
   "execution_count": null,
   "metadata": {},
   "outputs": [],
   "source": []
  }
 ],
 "metadata": {
  "kernelspec": {
   "display_name": "Python 3",
   "language": "python",
   "name": "python3"
  },
  "language_info": {
   "codemirror_mode": {
    "name": "ipython",
    "version": 3
   },
   "file_extension": ".py",
   "mimetype": "text/x-python",
   "name": "python",
   "nbconvert_exporter": "python",
   "pygments_lexer": "ipython3",
   "version": "3.5.2"
  }
 },
 "nbformat": 4,
 "nbformat_minor": 2
}
